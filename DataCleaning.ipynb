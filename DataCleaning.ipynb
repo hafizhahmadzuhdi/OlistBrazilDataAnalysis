{
 "cells": [
  {
   "cell_type": "markdown",
   "metadata": {},
   "source": [
    "# DATA CLEANING (2 of 3 Documents)"
   ]
  },
  {
   "cell_type": "code",
   "execution_count": 1,
   "metadata": {},
   "outputs": [
    {
     "name": "stdout",
     "output_type": "stream",
     "text": [
      "numpy version: 1.14.3\n",
      "pandas version: 0.23.0\n",
      "scikit-learn version: 0.19.1\n",
      "matplotlib version: 2.2.2\n"
     ]
    }
   ],
   "source": [
    "import numpy as np\n",
    "import pandas as pd\n",
    "import matplotlib.pyplot as plt\n",
    "import seaborn as sns\n",
    "import matplotlib as mpl\n",
    "import datetime\n",
    "import sklearn as sk\n",
    "from sklearn import datasets, linear_model\n",
    "from sklearn.metrics import mean_squared_error, r2_score\n",
    "from pandas.plotting import scatter_matrix\n",
    "\n",
    "print('numpy version:', np.__version__)\n",
    "print('pandas version:', pd.__version__)\n",
    "print('scikit-learn version:', sk.__version__)\n",
    "print('matplotlib version:', mpl.__version__)\n",
    "\n",
    "%matplotlib inline"
   ]
  },
  {
   "cell_type": "code",
   "execution_count": 24,
   "metadata": {},
   "outputs": [],
   "source": [
    "df_orders = pd.read_csv(\"../Datasets/olist_orders_dataset.csv\")\n",
    "df_customers = pd.read_csv(\"../Datasets/olist_customers_dataset.csv\")\n",
    "df_geoloc = pd.read_csv(\"../Datasets/olist_geolocation_dataset.csv\")\n",
    "df_items = pd.read_csv(\"../Datasets/olist_order_items_dataset.csv\")\n",
    "df_payments = pd.read_csv(\"../Datasets/olist_order_payments_dataset.csv\")\n",
    "df_seller = pd.read_csv(\"../Datasets/olist_sellers_dataset.csv\")\n",
    "df_product = pd.read_csv(\"../Datasets/olist_products_dataset.csv\")\n",
    "df_product_translation = pd.read_csv(\"../Datasets/product_category_name_translation.csv\")"
   ]
  },
  {
   "cell_type": "code",
   "execution_count": 25,
   "metadata": {},
   "outputs": [],
   "source": [
    "df_orders_copy = df_orders.copy()\n",
    "df_orders_copy[\"order_purchase_timestamp\"] = pd.to_datetime(df_orders[\"order_purchase_timestamp\"], format='%Y-%m-%d %H:%M:%S')\n",
    "df_orders_copy[\"order_approved_at\"] = pd.to_datetime(df_orders[\"order_approved_at\"], format='%Y-%m-%d %H:%M:%S')\n",
    "df_orders_copy[\"order_delivered_carrier_date\"] = pd.to_datetime(df_orders[\"order_delivered_carrier_date\"], format='%Y-%m-%d %H:%M:%S')\n",
    "df_orders_copy[\"order_delivered_customer_date\"] = pd.to_datetime(df_orders[\"order_delivered_customer_date\"], format='%Y-%m-%d %H:%M:%S')\n",
    "df_orders_copy[\"order_estimated_delivery_date\"] = pd.to_datetime(df_orders[\"order_estimated_delivery_date\"], format='%Y-%m-%d %H:%M:%S')"
   ]
  },
  {
   "cell_type": "code",
   "execution_count": 26,
   "metadata": {},
   "outputs": [],
   "source": [
    "df_orders_copy['day_name']=df_orders_copy['order_purchase_timestamp'].dt.weekday_name\n",
    "df_orders_copy['year']=df_orders_copy['order_purchase_timestamp'].dt.year\n",
    "df_orders_copy['day']=df_orders_copy['order_purchase_timestamp'].dt.day\n",
    "df_orders_copy['month']=df_orders_copy['order_purchase_timestamp'].dt.month\n",
    "df_orders_copy['hour']=df_orders_copy['order_purchase_timestamp'].dt.hour"
   ]
  },
  {
   "cell_type": "code",
   "execution_count": 27,
   "metadata": {},
   "outputs": [],
   "source": [
    "df_orders_copy['day_categories'] = df_orders_copy['day_name'].map({'Monday':0, 'Tuesday':1, 'Wednesday':2, 'Thursday':3, 'Friday':4, 'Saturday':5, 'Sunday':6})"
   ]
  },
  {
   "cell_type": "code",
   "execution_count": 28,
   "metadata": {},
   "outputs": [],
   "source": [
    "df_orders_copy = df_orders_copy.drop('day_name', axis=1)"
   ]
  },
  {
   "cell_type": "code",
   "execution_count": 30,
   "metadata": {},
   "outputs": [],
   "source": [
    "df_orders_copy = df_orders_copy.drop('order_approved_at', axis=1)\n",
    "df_orders_copy = df_orders_copy.drop('order_delivered_carrier_date', axis=1)\n",
    "df_orders_copy = df_orders_copy.drop('order_delivered_customer_date', axis=1)\n",
    "df_orders_copy = df_orders_copy.drop('order_estimated_delivery_date', axis=1)"
   ]
  },
  {
   "cell_type": "code",
   "execution_count": 31,
   "metadata": {},
   "outputs": [],
   "source": [
    "df_items['total_order_value'] = ((df_items['order_item_id']*df_items['price']) + df_items['order_item_id']*df_items['freight_value'])\n",
    "df_join_item_order = df_orders_copy.join(df_items.set_index('order_id'), on='order_id')"
   ]
  },
  {
   "cell_type": "code",
   "execution_count": 32,
   "metadata": {},
   "outputs": [],
   "source": [
    "        df_join_item_order = df_join_item_order.join(df_product.set_index('product_id'), on='product_id')"
   ]
  },
  {
   "cell_type": "code",
   "execution_count": 21,
   "metadata": {},
   "outputs": [
    {
     "data": {
      "text/plain": [
       "order_purchase_timestamp         112650\n",
       "year                             112650\n",
       "day                              112650\n",
       "month                            112650\n",
       "hour                             112650\n",
       "day_categories                   112650\n",
       "total_order_value                112650\n",
       "product_category_name_english    112650\n",
       "customer_state                   112650\n",
       "state_number                     112650\n",
       "product_category                 112650\n",
       "dtype: int64"
      ]
     },
     "execution_count": 21,
     "metadata": {},
     "output_type": "execute_result"
    }
   ],
   "source": [
    "df_join_item_order.count()"
   ]
  },
  {
   "cell_type": "code",
   "execution_count": 33,
   "metadata": {},
   "outputs": [],
   "source": [
    "df_join_item_order = df_join_item_order.drop('product_name_lenght', axis=1)\n",
    "df_join_item_order = df_join_item_order.drop('product_length_cm', axis=1)\n",
    "df_join_item_order = df_join_item_order.drop('product_height_cm', axis=1)\n",
    "df_join_item_order = df_join_item_order.drop('product_width_cm', axis=1)\n",
    "df_join_item_order = df_join_item_order.drop('product_photos_qty', axis=1)\n",
    "df_join_item_order = df_join_item_order.drop('product_weight_g', axis=1)\n",
    "df_join_item_order = df_join_item_order.drop('product_description_lenght', axis=1)\n",
    "df_join_item_order = df_join_item_order.drop(['order_item_id', 'price', 'freight_value', 'seller_id'], axis=1)"
   ]
  },
  {
   "cell_type": "code",
   "execution_count": 34,
   "metadata": {},
   "outputs": [],
   "source": [
    "df_join_item_order = df_join_item_order.join(df_product_translation.set_index('product_category_name'), on='product_category_name')"
   ]
  },
  {
   "cell_type": "code",
   "execution_count": 35,
   "metadata": {},
   "outputs": [],
   "source": [
    "df_join_item_order = df_join_item_order[df_join_item_order['total_order_value'].isnull() == False]\n",
    "df_join_item_order['product_category_name_english'] = df_join_item_order['product_category_name_english'].fillna(\"Unidentified\")\n",
    "df_join_item_order = df_join_item_order.join(df_customers.set_index('customer_id'), on='customer_id')"
   ]
  },
  {
   "cell_type": "markdown",
   "metadata": {},
   "source": [
    "Deleting the null value (above) and filling the missing value"
   ]
  },
  {
   "cell_type": "code",
   "execution_count": 36,
   "metadata": {},
   "outputs": [],
   "source": [
    "df_join_item_order = df_join_item_order.drop(['product_category_name', 'product_id'], axis=1)\n",
    "df_join_item_order = df_join_item_order.drop(['customer_unique_id', 'customer_city', 'customer_zip_code_prefix'], axis=1)\n",
    "df_join_item_order = df_join_item_order.drop(['customer_id', 'order_status'], axis=1)"
   ]
  },
  {
   "cell_type": "code",
   "execution_count": 37,
   "metadata": {},
   "outputs": [],
   "source": [
    "df_join_item_order['state_number'] = df_join_item_order['customer_state'].map({'SP': 0, 'RJ': 1, 'MG': 2, 'RS': 3, 'PR': 4, 'SC': 5, 'BA': 6, 'DF': 7, 'GO': 8, 'ES': 9, 'PE': 10, 'CE': 11, 'PA': 12, 'MT': 13, 'MA': 14, 'MS': 15, 'PB': 16, 'PI': 17, 'RN': 18, 'AL': 19, 'SE': 20, 'TO': 21, 'RO': 22, 'AM': 23, 'AC': 24, 'AP': 25, 'RR': 26})\n",
    "df_join_item_order['product_category'] = df_join_item_order['product_category_name_english'].map({'health_beauty': 0, 'computers_accessories': 1, 'auto': 2, 'bed_bath_table': 3, 'furniture_decor': 4, 'sports_leisure': 5, 'perfumery': 6, 'housewares': 7, 'telephony': 8, 'watches_gifts': 9, 'food_drink': 10, 'baby': 11, 'stationery': 12, 'tablets_printing_image': 13, 'toys': 14, 'fixed_telephony': 15, 'garden_tools': 16, 'fashion_bags_accessories': 17, 'small_appliances': 18, 'consoles_games': 19, 'audio': 20, 'fashion_shoes': 21, 'cool_stuff': 22, 'luggage_accessories': 23, 'air_conditioning': 24, 'construction_tools_construction': 25, 'kitchen_dining_laundry_garden_furniture': 26, 'costruction_tools_garden': 27, 'fashion_male_clothing': 28, 'pet_shop': 29, 'office_furniture': 30, 'market_place': 31, 'electronics': 32, 'home_appliances': 33, 'party_supplies': 34, 'home_confort': 35, 'costruction_tools_tools': 36, 'agro_industry_and_commerce': 37, 'furniture_mattress_and_upholstery': 38, 'books_technical': 39, 'home_construction': 40, 'musical_instruments': 41, 'furniture_living_room': 42, 'construction_tools_lights': 43, 'industry_commerce_and_business': 44, 'food': 45, 'art': 46, 'furniture_bedroom': 47, 'books_general_interest': 48, 'construction_tools_safety': 49, 'fashion_underwear_beach': 50, 'fashion_sport': 51, 'signaling_and_security': 52, 'computers': 53, 'christmas_supplies': 54, 'fashio_female_clothing': 55, 'home_appliances_2': 56, 'books_imported': 57, 'drinks': 58, 'cine_photo': 59, 'la_cuisine': 60, 'music': 61, 'home_comfort_2': 62, 'small_appliances_home_oven_and_coffee': 63, 'cds_dvds_musicals': 64, 'dvds_blu_ray': 65, 'flowers': 66, 'arts_and_craftmanship': 67, 'diapers_and_hygiene': 68, 'fashion_childrens_clothes': 69, 'security_and_services': 70, 'Unidentified': 71})"
   ]
  },
  {
   "cell_type": "code",
   "execution_count": 38,
   "metadata": {},
   "outputs": [],
   "source": [
    "df_join_item_order = df_join_item_order.drop(['product_category_name_english', 'customer_state'], axis=1)"
   ]
  },
  {
   "cell_type": "code",
   "execution_count": 39,
   "metadata": {},
   "outputs": [
    {
     "data": {
      "text/plain": [
       "order_id                    112650\n",
       "order_purchase_timestamp    112650\n",
       "year                        112650\n",
       "day                         112650\n",
       "month                       112650\n",
       "hour                        112650\n",
       "day_categories              112650\n",
       "total_order_value           112650\n",
       "state_number                112650\n",
       "product_category            112650\n",
       "dtype: int64"
      ]
     },
     "execution_count": 39,
     "metadata": {},
     "output_type": "execute_result"
    }
   ],
   "source": [
    "df_join_item_order.count()"
   ]
  },
  {
   "cell_type": "code",
   "execution_count": 60,
   "metadata": {},
   "outputs": [],
   "source": [
    "mydata = df_join_item_order.groupby(['year', 'month'])[['total_order_value']].sum().sort_values(by='total_order_value', ascending = True)\n",
    "mydata = mydata.sort_values(by=['year', 'month'], ascending=True)\n",
    "mydata['Count of order_id'] = df_join_item_order.groupby(['year', 'month'])[['order_id']].count().sort_values(by=['year', 'month'], ascending = True)"
   ]
  },
  {
   "cell_type": "code",
   "execution_count": 61,
   "metadata": {},
   "outputs": [
    {
     "data": {
      "text/html": [
       "<div>\n",
       "<style scoped>\n",
       "    .dataframe tbody tr th:only-of-type {\n",
       "        vertical-align: middle;\n",
       "    }\n",
       "\n",
       "    .dataframe tbody tr th {\n",
       "        vertical-align: top;\n",
       "    }\n",
       "\n",
       "    .dataframe thead th {\n",
       "        text-align: right;\n",
       "    }\n",
       "</style>\n",
       "<table border=\"1\" class=\"dataframe\">\n",
       "  <thead>\n",
       "    <tr style=\"text-align: right;\">\n",
       "      <th></th>\n",
       "      <th></th>\n",
       "      <th>total_order_value</th>\n",
       "      <th>Count of order_id</th>\n",
       "    </tr>\n",
       "    <tr>\n",
       "      <th>year</th>\n",
       "      <th>month</th>\n",
       "      <th></th>\n",
       "      <th></th>\n",
       "    </tr>\n",
       "  </thead>\n",
       "  <tbody>\n",
       "    <tr>\n",
       "      <th rowspan=\"3\" valign=\"top\">2016</th>\n",
       "      <th>9</th>\n",
       "      <td>562.78</td>\n",
       "      <td>6</td>\n",
       "    </tr>\n",
       "    <tr>\n",
       "      <th>10</th>\n",
       "      <td>65170.48</td>\n",
       "      <td>363</td>\n",
       "    </tr>\n",
       "    <tr>\n",
       "      <th>12</th>\n",
       "      <td>19.62</td>\n",
       "      <td>1</td>\n",
       "    </tr>\n",
       "    <tr>\n",
       "      <th rowspan=\"12\" valign=\"top\">2017</th>\n",
       "      <th>1</th>\n",
       "      <td>162206.06</td>\n",
       "      <td>955</td>\n",
       "    </tr>\n",
       "    <tr>\n",
       "      <th>2</th>\n",
       "      <td>314494.24</td>\n",
       "      <td>1951</td>\n",
       "    </tr>\n",
       "    <tr>\n",
       "      <th>3</th>\n",
       "      <td>479379.70</td>\n",
       "      <td>3000</td>\n",
       "    </tr>\n",
       "    <tr>\n",
       "      <th>4</th>\n",
       "      <td>458803.55</td>\n",
       "      <td>2684</td>\n",
       "    </tr>\n",
       "    <tr>\n",
       "      <th>5</th>\n",
       "      <td>654233.08</td>\n",
       "      <td>4136</td>\n",
       "    </tr>\n",
       "    <tr>\n",
       "      <th>6</th>\n",
       "      <td>551457.86</td>\n",
       "      <td>3583</td>\n",
       "    </tr>\n",
       "    <tr>\n",
       "      <th>7</th>\n",
       "      <td>661289.38</td>\n",
       "      <td>4519</td>\n",
       "    </tr>\n",
       "    <tr>\n",
       "      <th>8</th>\n",
       "      <td>769906.09</td>\n",
       "      <td>4910</td>\n",
       "    </tr>\n",
       "    <tr>\n",
       "      <th>9</th>\n",
       "      <td>868437.75</td>\n",
       "      <td>4831</td>\n",
       "    </tr>\n",
       "    <tr>\n",
       "      <th>10</th>\n",
       "      <td>894949.02</td>\n",
       "      <td>5322</td>\n",
       "    </tr>\n",
       "    <tr>\n",
       "      <th>11</th>\n",
       "      <td>1382776.09</td>\n",
       "      <td>8665</td>\n",
       "    </tr>\n",
       "    <tr>\n",
       "      <th>12</th>\n",
       "      <td>952423.54</td>\n",
       "      <td>6308</td>\n",
       "    </tr>\n",
       "    <tr>\n",
       "      <th rowspan=\"9\" valign=\"top\">2018</th>\n",
       "      <th>1</th>\n",
       "      <td>1257017.33</td>\n",
       "      <td>8208</td>\n",
       "    </tr>\n",
       "    <tr>\n",
       "      <th>2</th>\n",
       "      <td>1147297.84</td>\n",
       "      <td>7672</td>\n",
       "    </tr>\n",
       "    <tr>\n",
       "      <th>3</th>\n",
       "      <td>1315140.71</td>\n",
       "      <td>8217</td>\n",
       "    </tr>\n",
       "    <tr>\n",
       "      <th>4</th>\n",
       "      <td>1328309.64</td>\n",
       "      <td>7975</td>\n",
       "    </tr>\n",
       "    <tr>\n",
       "      <th>5</th>\n",
       "      <td>1332620.65</td>\n",
       "      <td>7925</td>\n",
       "    </tr>\n",
       "    <tr>\n",
       "      <th>6</th>\n",
       "      <td>1161317.09</td>\n",
       "      <td>7078</td>\n",
       "    </tr>\n",
       "    <tr>\n",
       "      <th>7</th>\n",
       "      <td>1204545.35</td>\n",
       "      <td>7092</td>\n",
       "    </tr>\n",
       "    <tr>\n",
       "      <th>8</th>\n",
       "      <td>1115022.12</td>\n",
       "      <td>7248</td>\n",
       "    </tr>\n",
       "    <tr>\n",
       "      <th>9</th>\n",
       "      <td>166.46</td>\n",
       "      <td>1</td>\n",
       "    </tr>\n",
       "  </tbody>\n",
       "</table>\n",
       "</div>"
      ],
      "text/plain": [
       "            total_order_value  Count of order_id\n",
       "year month                                      \n",
       "2016 9                 562.78                  6\n",
       "     10              65170.48                363\n",
       "     12                 19.62                  1\n",
       "2017 1              162206.06                955\n",
       "     2              314494.24               1951\n",
       "     3              479379.70               3000\n",
       "     4              458803.55               2684\n",
       "     5              654233.08               4136\n",
       "     6              551457.86               3583\n",
       "     7              661289.38               4519\n",
       "     8              769906.09               4910\n",
       "     9              868437.75               4831\n",
       "     10             894949.02               5322\n",
       "     11            1382776.09               8665\n",
       "     12             952423.54               6308\n",
       "2018 1             1257017.33               8208\n",
       "     2             1147297.84               7672\n",
       "     3             1315140.71               8217\n",
       "     4             1328309.64               7975\n",
       "     5             1332620.65               7925\n",
       "     6             1161317.09               7078\n",
       "     7             1204545.35               7092\n",
       "     8             1115022.12               7248\n",
       "     9                 166.46                  1"
      ]
     },
     "execution_count": 61,
     "metadata": {},
     "output_type": "execute_result"
    }
   ],
   "source": [
    "mydata"
   ]
  },
  {
   "cell_type": "code",
   "execution_count": null,
   "metadata": {},
   "outputs": [],
   "source": [
    "mydata.to_csv('datamonth.csv')"
   ]
  },
  {
   "cell_type": "markdown",
   "metadata": {},
   "source": [
    "# Continued to Machine Learning Implementation"
   ]
  },
  {
   "cell_type": "code",
   "execution_count": null,
   "metadata": {},
   "outputs": [],
   "source": []
  },
  {
   "cell_type": "code",
   "execution_count": null,
   "metadata": {},
   "outputs": [],
   "source": []
  }
 ],
 "metadata": {
  "kernelspec": {
   "display_name": "Python 3",
   "language": "python",
   "name": "python3"
  },
  "language_info": {
   "codemirror_mode": {
    "name": "ipython",
    "version": 3
   },
   "file_extension": ".py",
   "mimetype": "text/x-python",
   "name": "python",
   "nbconvert_exporter": "python",
   "pygments_lexer": "ipython3",
   "version": "3.6.5"
  }
 },
 "nbformat": 4,
 "nbformat_minor": 2
}
