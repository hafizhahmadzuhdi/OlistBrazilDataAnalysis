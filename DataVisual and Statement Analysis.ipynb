{
 "cells": [
  {
   "cell_type": "markdown",
   "metadata": {},
   "source": [
    "# THIS DOCUMENT WILL BE MORE FOCUSED ON DATA VISUALISATION AND GAIN INSIGHTS ON ITS DATA (1 of 3)"
   ]
  },
  {
   "cell_type": "markdown",
   "metadata": {},
   "source": [
    "### Importing important library"
   ]
  },
  {
   "cell_type": "code",
   "execution_count": 2,
   "metadata": {},
   "outputs": [],
   "source": [
    "import numpy as np\n",
    "import pandas as pd\n",
    "import matplotlib.pyplot as plt\n",
    "import seaborn as sns\n",
    "import matplotlib as mpl\n",
    "import datetime\n",
    "import sklearn as sk\n",
    "from sklearn import datasets, linear_model\n",
    "from sklearn.metrics import mean_squared_error, r2_score\n",
    "from pandas.plotting import scatter_matrix"
   ]
  },
  {
   "cell_type": "code",
   "execution_count": 3,
   "metadata": {},
   "outputs": [
    {
     "name": "stdout",
     "output_type": "stream",
     "text": [
      "numpy version: 1.14.3\n",
      "pandas version: 0.23.0\n",
      "scikit-learn version: 0.19.1\n",
      "matplotlib version: 2.2.2\n"
     ]
    }
   ],
   "source": [
    "print('numpy version:', np.__version__)\n",
    "print('pandas version:', pd.__version__)\n",
    "print('scikit-learn version:', sk.__version__)\n",
    "print('matplotlib version:', mpl.__version__)\n",
    "\n",
    "%matplotlib inline"
   ]
  },
  {
   "cell_type": "markdown",
   "metadata": {},
   "source": [
    "### Reading dataset"
   ]
  },
  {
   "cell_type": "code",
   "execution_count": 4,
   "metadata": {},
   "outputs": [
    {
     "data": {
      "text/html": [
       "<div>\n",
       "<style scoped>\n",
       "    .dataframe tbody tr th:only-of-type {\n",
       "        vertical-align: middle;\n",
       "    }\n",
       "\n",
       "    .dataframe tbody tr th {\n",
       "        vertical-align: top;\n",
       "    }\n",
       "\n",
       "    .dataframe thead th {\n",
       "        text-align: right;\n",
       "    }\n",
       "</style>\n",
       "<table border=\"1\" class=\"dataframe\">\n",
       "  <thead>\n",
       "    <tr style=\"text-align: right;\">\n",
       "      <th></th>\n",
       "      <th>order_id</th>\n",
       "      <th>customer_id</th>\n",
       "      <th>order_status</th>\n",
       "      <th>order_purchase_timestamp</th>\n",
       "      <th>order_approved_at</th>\n",
       "      <th>order_delivered_carrier_date</th>\n",
       "      <th>order_delivered_customer_date</th>\n",
       "      <th>order_estimated_delivery_date</th>\n",
       "    </tr>\n",
       "  </thead>\n",
       "  <tbody>\n",
       "    <tr>\n",
       "      <th>0</th>\n",
       "      <td>e481f51cbdc54678b7cc49136f2d6af7</td>\n",
       "      <td>9ef432eb6251297304e76186b10a928d</td>\n",
       "      <td>delivered</td>\n",
       "      <td>2017-10-02 10:56:33</td>\n",
       "      <td>2017-10-02 11:07:15</td>\n",
       "      <td>2017-10-04 19:55:00</td>\n",
       "      <td>2017-10-10 21:25:13</td>\n",
       "      <td>2017-10-18 00:00:00</td>\n",
       "    </tr>\n",
       "    <tr>\n",
       "      <th>1</th>\n",
       "      <td>53cdb2fc8bc7dce0b6741e2150273451</td>\n",
       "      <td>b0830fb4747a6c6d20dea0b8c802d7ef</td>\n",
       "      <td>delivered</td>\n",
       "      <td>2018-07-24 20:41:37</td>\n",
       "      <td>2018-07-26 03:24:27</td>\n",
       "      <td>2018-07-26 14:31:00</td>\n",
       "      <td>2018-08-07 15:27:45</td>\n",
       "      <td>2018-08-13 00:00:00</td>\n",
       "    </tr>\n",
       "    <tr>\n",
       "      <th>2</th>\n",
       "      <td>47770eb9100c2d0c44946d9cf07ec65d</td>\n",
       "      <td>41ce2a54c0b03bf3443c3d931a367089</td>\n",
       "      <td>delivered</td>\n",
       "      <td>2018-08-08 08:38:49</td>\n",
       "      <td>2018-08-08 08:55:23</td>\n",
       "      <td>2018-08-08 13:50:00</td>\n",
       "      <td>2018-08-17 18:06:29</td>\n",
       "      <td>2018-09-04 00:00:00</td>\n",
       "    </tr>\n",
       "    <tr>\n",
       "      <th>3</th>\n",
       "      <td>949d5b44dbf5de918fe9c16f97b45f8a</td>\n",
       "      <td>f88197465ea7920adcdbec7375364d82</td>\n",
       "      <td>delivered</td>\n",
       "      <td>2017-11-18 19:28:06</td>\n",
       "      <td>2017-11-18 19:45:59</td>\n",
       "      <td>2017-11-22 13:39:59</td>\n",
       "      <td>2017-12-02 00:28:42</td>\n",
       "      <td>2017-12-15 00:00:00</td>\n",
       "    </tr>\n",
       "    <tr>\n",
       "      <th>4</th>\n",
       "      <td>ad21c59c0840e6cb83a9ceb5573f8159</td>\n",
       "      <td>8ab97904e6daea8866dbdbc4fb7aad2c</td>\n",
       "      <td>delivered</td>\n",
       "      <td>2018-02-13 21:18:39</td>\n",
       "      <td>2018-02-13 22:20:29</td>\n",
       "      <td>2018-02-14 19:46:34</td>\n",
       "      <td>2018-02-16 18:17:02</td>\n",
       "      <td>2018-02-26 00:00:00</td>\n",
       "    </tr>\n",
       "    <tr>\n",
       "      <th>5</th>\n",
       "      <td>a4591c265e18cb1dcee52889e2d8acc3</td>\n",
       "      <td>503740e9ca751ccdda7ba28e9ab8f608</td>\n",
       "      <td>delivered</td>\n",
       "      <td>2017-07-09 21:57:05</td>\n",
       "      <td>2017-07-09 22:10:13</td>\n",
       "      <td>2017-07-11 14:58:04</td>\n",
       "      <td>2017-07-26 10:57:55</td>\n",
       "      <td>2017-08-01 00:00:00</td>\n",
       "    </tr>\n",
       "    <tr>\n",
       "      <th>6</th>\n",
       "      <td>136cce7faa42fdb2cefd53fdc79a6098</td>\n",
       "      <td>ed0271e0b7da060a393796590e7b737a</td>\n",
       "      <td>invoiced</td>\n",
       "      <td>2017-04-11 12:22:08</td>\n",
       "      <td>2017-04-13 13:25:17</td>\n",
       "      <td>NaN</td>\n",
       "      <td>NaN</td>\n",
       "      <td>2017-05-09 00:00:00</td>\n",
       "    </tr>\n",
       "    <tr>\n",
       "      <th>7</th>\n",
       "      <td>6514b8ad8028c9f2cc2374ded245783f</td>\n",
       "      <td>9bdf08b4b3b52b5526ff42d37d47f222</td>\n",
       "      <td>delivered</td>\n",
       "      <td>2017-05-16 13:10:30</td>\n",
       "      <td>2017-05-16 13:22:11</td>\n",
       "      <td>2017-05-22 10:07:46</td>\n",
       "      <td>2017-05-26 12:55:51</td>\n",
       "      <td>2017-06-07 00:00:00</td>\n",
       "    </tr>\n",
       "    <tr>\n",
       "      <th>8</th>\n",
       "      <td>76c6e866289321a7c93b82b54852dc33</td>\n",
       "      <td>f54a9f0e6b351c431402b8461ea51999</td>\n",
       "      <td>delivered</td>\n",
       "      <td>2017-01-23 18:29:09</td>\n",
       "      <td>2017-01-25 02:50:47</td>\n",
       "      <td>2017-01-26 14:16:31</td>\n",
       "      <td>2017-02-02 14:08:10</td>\n",
       "      <td>2017-03-06 00:00:00</td>\n",
       "    </tr>\n",
       "    <tr>\n",
       "      <th>9</th>\n",
       "      <td>e69bfb5eb88e0ed6a785585b27e16dbf</td>\n",
       "      <td>31ad1d1b63eb9962463f764d4e6e0c9d</td>\n",
       "      <td>delivered</td>\n",
       "      <td>2017-07-29 11:55:02</td>\n",
       "      <td>2017-07-29 12:05:32</td>\n",
       "      <td>2017-08-10 19:45:24</td>\n",
       "      <td>2017-08-16 17:14:30</td>\n",
       "      <td>2017-08-23 00:00:00</td>\n",
       "    </tr>\n",
       "  </tbody>\n",
       "</table>\n",
       "</div>"
      ],
      "text/plain": [
       "                           order_id                       customer_id  \\\n",
       "0  e481f51cbdc54678b7cc49136f2d6af7  9ef432eb6251297304e76186b10a928d   \n",
       "1  53cdb2fc8bc7dce0b6741e2150273451  b0830fb4747a6c6d20dea0b8c802d7ef   \n",
       "2  47770eb9100c2d0c44946d9cf07ec65d  41ce2a54c0b03bf3443c3d931a367089   \n",
       "3  949d5b44dbf5de918fe9c16f97b45f8a  f88197465ea7920adcdbec7375364d82   \n",
       "4  ad21c59c0840e6cb83a9ceb5573f8159  8ab97904e6daea8866dbdbc4fb7aad2c   \n",
       "5  a4591c265e18cb1dcee52889e2d8acc3  503740e9ca751ccdda7ba28e9ab8f608   \n",
       "6  136cce7faa42fdb2cefd53fdc79a6098  ed0271e0b7da060a393796590e7b737a   \n",
       "7  6514b8ad8028c9f2cc2374ded245783f  9bdf08b4b3b52b5526ff42d37d47f222   \n",
       "8  76c6e866289321a7c93b82b54852dc33  f54a9f0e6b351c431402b8461ea51999   \n",
       "9  e69bfb5eb88e0ed6a785585b27e16dbf  31ad1d1b63eb9962463f764d4e6e0c9d   \n",
       "\n",
       "  order_status order_purchase_timestamp    order_approved_at  \\\n",
       "0    delivered      2017-10-02 10:56:33  2017-10-02 11:07:15   \n",
       "1    delivered      2018-07-24 20:41:37  2018-07-26 03:24:27   \n",
       "2    delivered      2018-08-08 08:38:49  2018-08-08 08:55:23   \n",
       "3    delivered      2017-11-18 19:28:06  2017-11-18 19:45:59   \n",
       "4    delivered      2018-02-13 21:18:39  2018-02-13 22:20:29   \n",
       "5    delivered      2017-07-09 21:57:05  2017-07-09 22:10:13   \n",
       "6     invoiced      2017-04-11 12:22:08  2017-04-13 13:25:17   \n",
       "7    delivered      2017-05-16 13:10:30  2017-05-16 13:22:11   \n",
       "8    delivered      2017-01-23 18:29:09  2017-01-25 02:50:47   \n",
       "9    delivered      2017-07-29 11:55:02  2017-07-29 12:05:32   \n",
       "\n",
       "  order_delivered_carrier_date order_delivered_customer_date  \\\n",
       "0          2017-10-04 19:55:00           2017-10-10 21:25:13   \n",
       "1          2018-07-26 14:31:00           2018-08-07 15:27:45   \n",
       "2          2018-08-08 13:50:00           2018-08-17 18:06:29   \n",
       "3          2017-11-22 13:39:59           2017-12-02 00:28:42   \n",
       "4          2018-02-14 19:46:34           2018-02-16 18:17:02   \n",
       "5          2017-07-11 14:58:04           2017-07-26 10:57:55   \n",
       "6                          NaN                           NaN   \n",
       "7          2017-05-22 10:07:46           2017-05-26 12:55:51   \n",
       "8          2017-01-26 14:16:31           2017-02-02 14:08:10   \n",
       "9          2017-08-10 19:45:24           2017-08-16 17:14:30   \n",
       "\n",
       "  order_estimated_delivery_date  \n",
       "0           2017-10-18 00:00:00  \n",
       "1           2018-08-13 00:00:00  \n",
       "2           2018-09-04 00:00:00  \n",
       "3           2017-12-15 00:00:00  \n",
       "4           2018-02-26 00:00:00  \n",
       "5           2017-08-01 00:00:00  \n",
       "6           2017-05-09 00:00:00  \n",
       "7           2017-06-07 00:00:00  \n",
       "8           2017-03-06 00:00:00  \n",
       "9           2017-08-23 00:00:00  "
      ]
     },
     "execution_count": 4,
     "metadata": {},
     "output_type": "execute_result"
    }
   ],
   "source": [
    "#Importing dataset\n",
    "df_orders = pd.read_csv(\"../Datasets/olist_orders_dataset.csv\")\n",
    "df_customers = pd.read_csv(\"../Datasets/olist_customers_dataset.csv\")\n",
    "df_geoloc = pd.read_csv(\"../Datasets/olist_geolocation_dataset.csv\")\n",
    "df_items = pd.read_csv(\"../Datasets/olist_order_items_dataset.csv\")\n",
    "df_payments = pd.read_csv(\"../Datasets/olist_order_payments_dataset.csv\")\n",
    "df_seller = pd.read_csv(\"../Datasets/olist_sellers_dataset.csv\")\n",
    "df_product = pd.read_csv(\"../Datasets/olist_products_dataset.csv\")\n",
    "df_product_translation = pd.read_csv(\"../Datasets/product_category_name_translation.csv\")\n",
    "df_orders.head(10)"
   ]
  },
  {
   "cell_type": "code",
   "execution_count": 5,
   "metadata": {},
   "outputs": [
    {
     "name": "stdout",
     "output_type": "stream",
     "text": [
      "Order dataset shape : (99441, 8)\n"
     ]
    }
   ],
   "source": [
    "print('Order dataset shape : {}'.format(df_orders.shape))"
   ]
  },
  {
   "cell_type": "code",
   "execution_count": 6,
   "metadata": {},
   "outputs": [
    {
     "data": {
      "text/html": [
       "<div>\n",
       "<style scoped>\n",
       "    .dataframe tbody tr th:only-of-type {\n",
       "        vertical-align: middle;\n",
       "    }\n",
       "\n",
       "    .dataframe tbody tr th {\n",
       "        vertical-align: top;\n",
       "    }\n",
       "\n",
       "    .dataframe thead th {\n",
       "        text-align: right;\n",
       "    }\n",
       "</style>\n",
       "<table border=\"1\" class=\"dataframe\">\n",
       "  <thead>\n",
       "    <tr style=\"text-align: right;\">\n",
       "      <th></th>\n",
       "      <th>product_id</th>\n",
       "      <th>product_category_name</th>\n",
       "      <th>product_name_lenght</th>\n",
       "      <th>product_description_lenght</th>\n",
       "      <th>product_photos_qty</th>\n",
       "      <th>product_weight_g</th>\n",
       "      <th>product_length_cm</th>\n",
       "      <th>product_height_cm</th>\n",
       "      <th>product_width_cm</th>\n",
       "    </tr>\n",
       "  </thead>\n",
       "  <tbody>\n",
       "    <tr>\n",
       "      <th>0</th>\n",
       "      <td>1e9e8ef04dbcff4541ed26657ea517e5</td>\n",
       "      <td>perfumaria</td>\n",
       "      <td>40.0</td>\n",
       "      <td>287.0</td>\n",
       "      <td>1.0</td>\n",
       "      <td>225.0</td>\n",
       "      <td>16.0</td>\n",
       "      <td>10.0</td>\n",
       "      <td>14.0</td>\n",
       "    </tr>\n",
       "    <tr>\n",
       "      <th>1</th>\n",
       "      <td>3aa071139cb16b67ca9e5dea641aaa2f</td>\n",
       "      <td>artes</td>\n",
       "      <td>44.0</td>\n",
       "      <td>276.0</td>\n",
       "      <td>1.0</td>\n",
       "      <td>1000.0</td>\n",
       "      <td>30.0</td>\n",
       "      <td>18.0</td>\n",
       "      <td>20.0</td>\n",
       "    </tr>\n",
       "    <tr>\n",
       "      <th>2</th>\n",
       "      <td>96bd76ec8810374ed1b65e291975717f</td>\n",
       "      <td>esporte_lazer</td>\n",
       "      <td>46.0</td>\n",
       "      <td>250.0</td>\n",
       "      <td>1.0</td>\n",
       "      <td>154.0</td>\n",
       "      <td>18.0</td>\n",
       "      <td>9.0</td>\n",
       "      <td>15.0</td>\n",
       "    </tr>\n",
       "    <tr>\n",
       "      <th>3</th>\n",
       "      <td>cef67bcfe19066a932b7673e239eb23d</td>\n",
       "      <td>bebes</td>\n",
       "      <td>27.0</td>\n",
       "      <td>261.0</td>\n",
       "      <td>1.0</td>\n",
       "      <td>371.0</td>\n",
       "      <td>26.0</td>\n",
       "      <td>4.0</td>\n",
       "      <td>26.0</td>\n",
       "    </tr>\n",
       "    <tr>\n",
       "      <th>4</th>\n",
       "      <td>9dc1a7de274444849c219cff195d0b71</td>\n",
       "      <td>utilidades_domesticas</td>\n",
       "      <td>37.0</td>\n",
       "      <td>402.0</td>\n",
       "      <td>4.0</td>\n",
       "      <td>625.0</td>\n",
       "      <td>20.0</td>\n",
       "      <td>17.0</td>\n",
       "      <td>13.0</td>\n",
       "    </tr>\n",
       "  </tbody>\n",
       "</table>\n",
       "</div>"
      ],
      "text/plain": [
       "                         product_id  product_category_name  \\\n",
       "0  1e9e8ef04dbcff4541ed26657ea517e5             perfumaria   \n",
       "1  3aa071139cb16b67ca9e5dea641aaa2f                  artes   \n",
       "2  96bd76ec8810374ed1b65e291975717f          esporte_lazer   \n",
       "3  cef67bcfe19066a932b7673e239eb23d                  bebes   \n",
       "4  9dc1a7de274444849c219cff195d0b71  utilidades_domesticas   \n",
       "\n",
       "   product_name_lenght  product_description_lenght  product_photos_qty  \\\n",
       "0                 40.0                       287.0                 1.0   \n",
       "1                 44.0                       276.0                 1.0   \n",
       "2                 46.0                       250.0                 1.0   \n",
       "3                 27.0                       261.0                 1.0   \n",
       "4                 37.0                       402.0                 4.0   \n",
       "\n",
       "   product_weight_g  product_length_cm  product_height_cm  product_width_cm  \n",
       "0             225.0               16.0               10.0              14.0  \n",
       "1            1000.0               30.0               18.0              20.0  \n",
       "2             154.0               18.0                9.0              15.0  \n",
       "3             371.0               26.0                4.0              26.0  \n",
       "4             625.0               20.0               17.0              13.0  "
      ]
     },
     "execution_count": 6,
     "metadata": {},
     "output_type": "execute_result"
    }
   ],
   "source": [
    "df_product.head(5)"
   ]
  },
  {
   "cell_type": "code",
   "execution_count": 7,
   "metadata": {},
   "outputs": [
    {
     "data": {
      "text/html": [
       "<div>\n",
       "<style scoped>\n",
       "    .dataframe tbody tr th:only-of-type {\n",
       "        vertical-align: middle;\n",
       "    }\n",
       "\n",
       "    .dataframe tbody tr th {\n",
       "        vertical-align: top;\n",
       "    }\n",
       "\n",
       "    .dataframe thead th {\n",
       "        text-align: right;\n",
       "    }\n",
       "</style>\n",
       "<table border=\"1\" class=\"dataframe\">\n",
       "  <thead>\n",
       "    <tr style=\"text-align: right;\">\n",
       "      <th></th>\n",
       "      <th>product_category_name</th>\n",
       "      <th>product_category_name_english</th>\n",
       "    </tr>\n",
       "  </thead>\n",
       "  <tbody>\n",
       "    <tr>\n",
       "      <th>0</th>\n",
       "      <td>beleza_saude</td>\n",
       "      <td>health_beauty</td>\n",
       "    </tr>\n",
       "    <tr>\n",
       "      <th>1</th>\n",
       "      <td>informatica_acessorios</td>\n",
       "      <td>computers_accessories</td>\n",
       "    </tr>\n",
       "    <tr>\n",
       "      <th>2</th>\n",
       "      <td>automotivo</td>\n",
       "      <td>auto</td>\n",
       "    </tr>\n",
       "    <tr>\n",
       "      <th>3</th>\n",
       "      <td>cama_mesa_banho</td>\n",
       "      <td>bed_bath_table</td>\n",
       "    </tr>\n",
       "    <tr>\n",
       "      <th>4</th>\n",
       "      <td>moveis_decoracao</td>\n",
       "      <td>furniture_decor</td>\n",
       "    </tr>\n",
       "  </tbody>\n",
       "</table>\n",
       "</div>"
      ],
      "text/plain": [
       "    product_category_name product_category_name_english\n",
       "0            beleza_saude                 health_beauty\n",
       "1  informatica_acessorios         computers_accessories\n",
       "2              automotivo                          auto\n",
       "3         cama_mesa_banho                bed_bath_table\n",
       "4        moveis_decoracao               furniture_decor"
      ]
     },
     "execution_count": 7,
     "metadata": {},
     "output_type": "execute_result"
    }
   ],
   "source": [
    "df_product_translation.head(5)"
   ]
  },
  {
   "cell_type": "markdown",
   "metadata": {},
   "source": [
    "### Data Cleaning "
   ]
  },
  {
   "cell_type": "code",
   "execution_count": 8,
   "metadata": {},
   "outputs": [
    {
     "name": "stdout",
     "output_type": "stream",
     "text": [
      "Total null in order status column :  0\n",
      "Total null in column order_delivered_customer_date :  2965\n",
      "Total null in column order_delivered_carrier_date :  1783\n",
      "Total null in column order_approved_at :  160\n"
     ]
    }
   ],
   "source": [
    "print(\"Total null in order status column : \", df_orders['order_status'].isnull().sum())\n",
    "print(\"Total null in column order_delivered_customer_date : \", df_orders['order_delivered_customer_date'].isnull().sum())\n",
    "print(\"Total null in column order_delivered_carrier_date : \", df_orders['order_delivered_carrier_date'].isnull().sum())\n",
    "print(\"Total null in column order_approved_at : \", df_orders['order_approved_at'].isnull().sum())"
   ]
  },
  {
   "cell_type": "code",
   "execution_count": 9,
   "metadata": {},
   "outputs": [
    {
     "name": "stdout",
     "output_type": "stream",
     "text": [
      "order_id                            0\n",
      "customer_id                         0\n",
      "order_status                        0\n",
      "order_purchase_timestamp            0\n",
      "order_approved_at                 160\n",
      "order_delivered_carrier_date     1783\n",
      "order_delivered_customer_date    2965\n",
      "order_estimated_delivery_date       0\n",
      "dtype: int64\n"
     ]
    }
   ],
   "source": [
    "print(df_orders.isnull().sum())"
   ]
  },
  {
   "cell_type": "code",
   "execution_count": 10,
   "metadata": {},
   "outputs": [
    {
     "name": "stdout",
     "output_type": "stream",
     "text": [
      "order_id         0\n",
      "order_item_id    0\n",
      "product_id       0\n",
      "seller_id        0\n",
      "price            0\n",
      "freight_value    0\n",
      "dtype: int64\n"
     ]
    }
   ],
   "source": [
    "print(df_items.isnull().sum())"
   ]
  },
  {
   "cell_type": "code",
   "execution_count": 11,
   "metadata": {},
   "outputs": [
    {
     "name": "stdout",
     "output_type": "stream",
     "text": [
      "shipped        1107\n",
      "canceled        619\n",
      "unavailable     609\n",
      "invoiced        314\n",
      "processing      301\n",
      "delivered         8\n",
      "created           5\n",
      "approved          2\n",
      "Name: order_status, dtype: int64\n"
     ]
    }
   ],
   "source": [
    "#Example\n",
    "#df1 = df[['a','b']]\n",
    "#Select all cases where the first name is not missing and nationality is USA \n",
    "#df[df['first_name'].notnull() & (df['nationality'] == \"USA\")]\n",
    "print(df_orders['order_status'][df_orders['order_delivered_customer_date'].isnull()].value_counts())\n",
    "#print(df_orders[['order_status','order_delivered_customer_date']])\n",
    "#print(df_orders[df_orders['order_status'].notnull() & (df_orders['order_delivered_customer_date'].notnull())])\n",
    "#print(df_orders[df_orders['order_status'] & (df_orders['order_delivered_customer_date'].isnull())])"
   ]
  },
  {
   "cell_type": "code",
   "execution_count": 12,
   "metadata": {},
   "outputs": [
    {
     "name": "stdout",
     "output_type": "stream",
     "text": [
      "unavailable    609\n",
      "canceled       550\n",
      "invoiced       314\n",
      "processing     301\n",
      "created          5\n",
      "approved         2\n",
      "delivered        2\n",
      "Name: order_status, dtype: int64\n"
     ]
    }
   ],
   "source": [
    "print(df_orders['order_status'][df_orders['order_delivered_carrier_date'].isnull()].value_counts())"
   ]
  },
  {
   "cell_type": "code",
   "execution_count": 13,
   "metadata": {},
   "outputs": [
    {
     "name": "stdout",
     "output_type": "stream",
     "text": [
      "canceled     141\n",
      "delivered     14\n",
      "created        5\n",
      "Name: order_status, dtype: int64\n"
     ]
    }
   ],
   "source": [
    "print(df_orders['order_status'][df_orders['order_approved_at'].isnull()].value_counts())"
   ]
  },
  {
   "cell_type": "markdown",
   "metadata": {},
   "source": [
    "There is a github method for counting missing values in some tables : \n",
    "https://github.com/WillKoehrsen/machine-learning-project-walkthrough/blob/master/Machine%20Learning%20Project%20Part%201.ipynb\n",
    "like down below "
   ]
  },
  {
   "cell_type": "code",
   "execution_count": 14,
   "metadata": {},
   "outputs": [],
   "source": [
    "# Function to calculate missing values by column\n",
    "def missing_values_table(df):\n",
    "        # Total missing values\n",
    "        mis_val = df.isnull().sum()\n",
    "        \n",
    "        # Percentage of missing values\n",
    "        mis_val_percent = 100 * df.isnull().sum() / len(df)\n",
    "        \n",
    "        # Make a table with the results\n",
    "        mis_val_table = pd.concat([mis_val, mis_val_percent], axis=1)\n",
    "        \n",
    "        # Rename the columns\n",
    "        mis_val_table_ren_columns = mis_val_table.rename(\n",
    "        columns = {0 : 'Missing Values', 1 : '% of Total Values'})\n",
    "        \n",
    "        # Sort the table by percentage of missing descending\n",
    "        mis_val_table_ren_columns = mis_val_table_ren_columns[\n",
    "            mis_val_table_ren_columns.iloc[:,1] != 0].sort_values(\n",
    "        '% of Total Values', ascending=False).round(1)\n",
    "        \n",
    "        # Print some summary information\n",
    "        print (\"Your selected dataframe has \" + str(df.shape[1]) + \" columns.\\n\"      \n",
    "            \"There are \" + str(mis_val_table_ren_columns.shape[0]) +\n",
    "              \" columns that have missing values.\")\n",
    "        \n",
    "        # Return the dataframe with missing information\n",
    "        return mis_val_table_ren_columns"
   ]
  },
  {
   "cell_type": "code",
   "execution_count": 15,
   "metadata": {},
   "outputs": [
    {
     "name": "stdout",
     "output_type": "stream",
     "text": [
      "Your selected dataframe has 8 columns.\n",
      "There are 3 columns that have missing values.\n"
     ]
    },
    {
     "data": {
      "text/html": [
       "<div>\n",
       "<style scoped>\n",
       "    .dataframe tbody tr th:only-of-type {\n",
       "        vertical-align: middle;\n",
       "    }\n",
       "\n",
       "    .dataframe tbody tr th {\n",
       "        vertical-align: top;\n",
       "    }\n",
       "\n",
       "    .dataframe thead th {\n",
       "        text-align: right;\n",
       "    }\n",
       "</style>\n",
       "<table border=\"1\" class=\"dataframe\">\n",
       "  <thead>\n",
       "    <tr style=\"text-align: right;\">\n",
       "      <th></th>\n",
       "      <th>Missing Values</th>\n",
       "      <th>% of Total Values</th>\n",
       "    </tr>\n",
       "  </thead>\n",
       "  <tbody>\n",
       "    <tr>\n",
       "      <th>order_delivered_customer_date</th>\n",
       "      <td>2965</td>\n",
       "      <td>3.0</td>\n",
       "    </tr>\n",
       "    <tr>\n",
       "      <th>order_delivered_carrier_date</th>\n",
       "      <td>1783</td>\n",
       "      <td>1.8</td>\n",
       "    </tr>\n",
       "    <tr>\n",
       "      <th>order_approved_at</th>\n",
       "      <td>160</td>\n",
       "      <td>0.2</td>\n",
       "    </tr>\n",
       "  </tbody>\n",
       "</table>\n",
       "</div>"
      ],
      "text/plain": [
       "                               Missing Values  % of Total Values\n",
       "order_delivered_customer_date            2965                3.0\n",
       "order_delivered_carrier_date             1783                1.8\n",
       "order_approved_at                         160                0.2"
      ]
     },
     "execution_count": 15,
     "metadata": {},
     "output_type": "execute_result"
    }
   ],
   "source": [
    "missing_values_table(df_orders)"
   ]
  },
  {
   "cell_type": "code",
   "execution_count": 16,
   "metadata": {},
   "outputs": [
    {
     "name": "stdout",
     "output_type": "stream",
     "text": [
      "Your selected dataframe has 6 columns.\n",
      "There are 0 columns that have missing values.\n"
     ]
    },
    {
     "data": {
      "text/html": [
       "<div>\n",
       "<style scoped>\n",
       "    .dataframe tbody tr th:only-of-type {\n",
       "        vertical-align: middle;\n",
       "    }\n",
       "\n",
       "    .dataframe tbody tr th {\n",
       "        vertical-align: top;\n",
       "    }\n",
       "\n",
       "    .dataframe thead th {\n",
       "        text-align: right;\n",
       "    }\n",
       "</style>\n",
       "<table border=\"1\" class=\"dataframe\">\n",
       "  <thead>\n",
       "    <tr style=\"text-align: right;\">\n",
       "      <th></th>\n",
       "      <th>Missing Values</th>\n",
       "      <th>% of Total Values</th>\n",
       "    </tr>\n",
       "  </thead>\n",
       "  <tbody>\n",
       "  </tbody>\n",
       "</table>\n",
       "</div>"
      ],
      "text/plain": [
       "Empty DataFrame\n",
       "Columns: [Missing Values, % of Total Values]\n",
       "Index: []"
      ]
     },
     "execution_count": 16,
     "metadata": {},
     "output_type": "execute_result"
    }
   ],
   "source": [
    "missing_values_table(df_items)"
   ]
  },
  {
   "cell_type": "code",
   "execution_count": 17,
   "metadata": {},
   "outputs": [
    {
     "data": {
      "text/html": [
       "<div>\n",
       "<style scoped>\n",
       "    .dataframe tbody tr th:only-of-type {\n",
       "        vertical-align: middle;\n",
       "    }\n",
       "\n",
       "    .dataframe tbody tr th {\n",
       "        vertical-align: top;\n",
       "    }\n",
       "\n",
       "    .dataframe thead th {\n",
       "        text-align: right;\n",
       "    }\n",
       "</style>\n",
       "<table border=\"1\" class=\"dataframe\">\n",
       "  <thead>\n",
       "    <tr style=\"text-align: right;\">\n",
       "      <th></th>\n",
       "      <th>order_id</th>\n",
       "      <th>customer_id</th>\n",
       "      <th>order_status</th>\n",
       "      <th>order_purchase_timestamp</th>\n",
       "      <th>order_approved_at</th>\n",
       "      <th>order_delivered_carrier_date</th>\n",
       "      <th>order_delivered_customer_date</th>\n",
       "      <th>order_estimated_delivery_date</th>\n",
       "    </tr>\n",
       "  </thead>\n",
       "  <tbody>\n",
       "    <tr>\n",
       "      <th>count</th>\n",
       "      <td>99441</td>\n",
       "      <td>99441</td>\n",
       "      <td>99441</td>\n",
       "      <td>99441</td>\n",
       "      <td>99281</td>\n",
       "      <td>97658</td>\n",
       "      <td>96476</td>\n",
       "      <td>99441</td>\n",
       "    </tr>\n",
       "    <tr>\n",
       "      <th>unique</th>\n",
       "      <td>99441</td>\n",
       "      <td>99441</td>\n",
       "      <td>8</td>\n",
       "      <td>98875</td>\n",
       "      <td>90733</td>\n",
       "      <td>81018</td>\n",
       "      <td>95664</td>\n",
       "      <td>459</td>\n",
       "    </tr>\n",
       "    <tr>\n",
       "      <th>top</th>\n",
       "      <td>4381b4b79d51e72e0eb56a2fd1aea7b9</td>\n",
       "      <td>568f8c7d0e1e623a8dae413108936afb</td>\n",
       "      <td>delivered</td>\n",
       "      <td>2018-02-19 15:37:47</td>\n",
       "      <td>2018-02-27 04:31:10</td>\n",
       "      <td>2018-05-09 15:48:00</td>\n",
       "      <td>2016-10-27 17:32:07</td>\n",
       "      <td>2017-12-20 00:00:00</td>\n",
       "    </tr>\n",
       "    <tr>\n",
       "      <th>freq</th>\n",
       "      <td>1</td>\n",
       "      <td>1</td>\n",
       "      <td>96478</td>\n",
       "      <td>3</td>\n",
       "      <td>9</td>\n",
       "      <td>47</td>\n",
       "      <td>3</td>\n",
       "      <td>522</td>\n",
       "    </tr>\n",
       "  </tbody>\n",
       "</table>\n",
       "</div>"
      ],
      "text/plain": [
       "                                order_id                       customer_id  \\\n",
       "count                              99441                             99441   \n",
       "unique                             99441                             99441   \n",
       "top     4381b4b79d51e72e0eb56a2fd1aea7b9  568f8c7d0e1e623a8dae413108936afb   \n",
       "freq                                   1                                 1   \n",
       "\n",
       "       order_status order_purchase_timestamp    order_approved_at  \\\n",
       "count         99441                    99441                99281   \n",
       "unique            8                    98875                90733   \n",
       "top       delivered      2018-02-19 15:37:47  2018-02-27 04:31:10   \n",
       "freq          96478                        3                    9   \n",
       "\n",
       "       order_delivered_carrier_date order_delivered_customer_date  \\\n",
       "count                         97658                         96476   \n",
       "unique                        81018                         95664   \n",
       "top             2018-05-09 15:48:00           2016-10-27 17:32:07   \n",
       "freq                             47                             3   \n",
       "\n",
       "       order_estimated_delivery_date  \n",
       "count                          99441  \n",
       "unique                           459  \n",
       "top              2017-12-20 00:00:00  \n",
       "freq                             522  "
      ]
     },
     "execution_count": 17,
     "metadata": {},
     "output_type": "execute_result"
    }
   ],
   "source": [
    "df_orders.describe()"
   ]
  },
  {
   "cell_type": "markdown",
   "metadata": {},
   "source": [
    "### Analysis Statement "
   ]
  },
  {
   "cell_type": "code",
   "execution_count": 18,
   "metadata": {},
   "outputs": [
    {
     "name": "stdout",
     "output_type": "stream",
     "text": [
      "Oldest order made :  2016-09-04 21:15:19\n",
      "Latest order made :  2018-10-17 17:30:18\n"
     ]
    }
   ],
   "source": [
    "#Getting know the oldest duration of Order made and latest date order made\n",
    "print(\"Oldest order made : \", df_orders['order_purchase_timestamp'].min())\n",
    "print(\"Latest order made : \", df_orders['order_purchase_timestamp'].max())"
   ]
  },
  {
   "cell_type": "markdown",
   "metadata": {},
   "source": [
    "In this dataset, range of order made started from 4th of September 2016 until 17th of October 2018"
   ]
  },
  {
   "cell_type": "code",
   "execution_count": 19,
   "metadata": {},
   "outputs": [
    {
     "name": "stdout",
     "output_type": "stream",
     "text": [
      "Number of orders made in those period :  99441\n"
     ]
    }
   ],
   "source": [
    "#Getting know total orders made \n",
    "print(\"Number of orders made in those period : \",df_orders['order_id'].count())"
   ]
  },
  {
   "cell_type": "code",
   "execution_count": 20,
   "metadata": {},
   "outputs": [
    {
     "name": "stdout",
     "output_type": "stream",
     "text": [
      "Number of customers :  99441  From total customers :  99441\n"
     ]
    }
   ],
   "source": [
    "#Getting know how much customers involved in those sales\n",
    "print(\"Number of customers : \", df_orders['customer_id'].nunique(), \" From total customers : \", df_orders['customer_id'].count())"
   ]
  },
  {
   "cell_type": "code",
   "execution_count": 21,
   "metadata": {},
   "outputs": [
    {
     "name": "stdout",
     "output_type": "stream",
     "text": [
      "Total customers of OLIST :  99441\n"
     ]
    }
   ],
   "source": [
    "print(\"Total customers of OLIST : \", df_customers['customer_id'].nunique())"
   ]
  },
  {
   "cell_type": "code",
   "execution_count": 22,
   "metadata": {},
   "outputs": [
    {
     "name": "stdout",
     "output_type": "stream",
     "text": [
      "Order made from : \n",
      "customer_city\n",
      "sao paulo                15540\n",
      "rio de janeiro            6882\n",
      "belo horizonte            2773\n",
      "brasilia                  2131\n",
      "curitiba                  1521\n",
      "campinas                  1444\n",
      "porto alegre              1379\n",
      "salvador                  1245\n",
      "guarulhos                 1189\n",
      "sao bernardo do campo      938\n",
      "Name: customer_id, dtype: int64\n"
     ]
    }
   ],
   "source": [
    "#Getting know where the most people come from\n",
    "print(\"Order made from : \")\n",
    "cities_distinct = df_customers['customer_city'].nunique()\n",
    "c1 = df_customers.groupby('customer_city')['customer_id'].nunique().sort_values(ascending = False)\n",
    "print(c1.head(10))"
   ]
  },
  {
   "cell_type": "markdown",
   "metadata": {},
   "source": [
    "Most customers come from SAO PAOLUO followed by RIO DE JANEIRO"
   ]
  },
  {
   "cell_type": "code",
   "execution_count": 23,
   "metadata": {},
   "outputs": [
    {
     "name": "stdout",
     "output_type": "stream",
     "text": [
      "order_status\n",
      "delivered      96478\n",
      "shipped         1107\n",
      "canceled         625\n",
      "unavailable      609\n",
      "invoiced         314\n",
      "processing       301\n",
      "created            5\n",
      "approved           2\n",
      "Name: order_id, dtype: int64\n"
     ]
    }
   ],
   "source": [
    "#We want to know the dsitribution of order status\n",
    "status1 = df_orders.groupby('order_status')['order_id'].nunique().sort_values(ascending = False)\n",
    "print(status1.head(10))"
   ]
  },
  {
   "cell_type": "code",
   "execution_count": 24,
   "metadata": {},
   "outputs": [
    {
     "name": "stdout",
     "output_type": "stream",
     "text": [
      "Total Revenue : \n",
      "13591643.700000001  real\n"
     ]
    }
   ],
   "source": [
    "#Getting know how much revenue Olist can generate :\n",
    "print(\"Total Revenue : \")\n",
    "revenue1 = df_items['price'].sum()\n",
    "print(revenue1, \" real\")"
   ]
  },
  {
   "cell_type": "code",
   "execution_count": 25,
   "metadata": {},
   "outputs": [
    {
     "data": {
      "text/plain": [
       "order_id                                 object\n",
       "customer_id                              object\n",
       "order_status                             object\n",
       "order_purchase_timestamp         datetime64[ns]\n",
       "order_approved_at                datetime64[ns]\n",
       "order_delivered_carrier_date     datetime64[ns]\n",
       "order_delivered_customer_date    datetime64[ns]\n",
       "order_estimated_delivery_date    datetime64[ns]\n",
       "dtype: object"
      ]
     },
     "execution_count": 25,
     "metadata": {},
     "output_type": "execute_result"
    }
   ],
   "source": [
    "#Change data frame type to datetime of everything related to Date and Time\n",
    "df_orders_copy = df_orders.copy()\n",
    "df_orders_copy[\"order_purchase_timestamp\"] = pd.to_datetime(df_orders[\"order_purchase_timestamp\"], format='%Y-%m-%d %H:%M:%S')\n",
    "df_orders_copy[\"order_approved_at\"] = pd.to_datetime(df_orders[\"order_approved_at\"], format='%Y-%m-%d %H:%M:%S')\n",
    "df_orders_copy[\"order_delivered_carrier_date\"] = pd.to_datetime(df_orders[\"order_delivered_carrier_date\"], format='%Y-%m-%d %H:%M:%S')\n",
    "df_orders_copy[\"order_delivered_customer_date\"] = pd.to_datetime(df_orders[\"order_delivered_customer_date\"], format='%Y-%m-%d %H:%M:%S')\n",
    "df_orders_copy[\"order_estimated_delivery_date\"] = pd.to_datetime(df_orders[\"order_estimated_delivery_date\"], format='%Y-%m-%d %H:%M:%S')\n",
    "df_orders_copy.dtypes"
   ]
  },
  {
   "cell_type": "code",
   "execution_count": 26,
   "metadata": {},
   "outputs": [
    {
     "name": "stdout",
     "output_type": "stream",
     "text": [
      "\n",
      "Total order made above 18 o'clock :  34100\n",
      "And cover around :  34.29169055017548  %\n"
     ]
    }
   ],
   "source": [
    "time18 = datetime.datetime(2020, 5, 17, 18, 0, 0)\n",
    "#df_time_above18dt = pd.to_datetime(df_time_above18, format = '%H:%M:%S')\n",
    "time_above_18 = df_orders_copy[(df_orders_copy['order_purchase_timestamp'].dt.time) >= time18.time()].count()\n",
    "#timeyear = df_orders_copy['order_purchase_timestamp'].dt.time\n",
    "print(\"\")\n",
    "ta18_order_id = time_above_18['order_id']\n",
    "numboford = df_orders_copy['order_id'].nunique()\n",
    "time_above_18_percent = (ta18_order_id/numboford)*100\n",
    "print(\"Total order made above 18 o'clock : \",ta18_order_id)\n",
    "print(\"And cover around : \", time_above_18_percent , \" %\")"
   ]
  },
  {
   "cell_type": "markdown",
   "metadata": {},
   "source": [
    "As you can see there is 34100 orders made in Evening till latenight"
   ]
  },
  {
   "cell_type": "code",
   "execution_count": 27,
   "metadata": {},
   "outputs": [
    {
     "name": "stdout",
     "output_type": "stream",
     "text": [
      "Total order made below 18 o'clock :  65341\n",
      "And cover around :  65.70830944982453  %\n"
     ]
    }
   ],
   "source": [
    "time_below_18 = df_orders_copy[(df_orders_copy['order_purchase_timestamp'].dt.time) < time18.time()].count()\n",
    "tb18_order_id = time_below_18['order_id']\n",
    "time_below_18_percent = (tb18_order_id/numboford)*100\n",
    "print(\"Total order made below 18 o'clock : \",tb18_order_id)\n",
    "print(\"And cover around : \", time_below_18_percent, \" %\")"
   ]
  },
  {
   "cell_type": "markdown",
   "metadata": {},
   "source": [
    "Overwhile in the other hand, there are 65341 orders made from morning till evening"
   ]
  },
  {
   "cell_type": "markdown",
   "metadata": {},
   "source": [
    "### Important! Specifying Table "
   ]
  },
  {
   "cell_type": "code",
   "execution_count": 28,
   "metadata": {},
   "outputs": [
    {
     "data": {
      "text/html": [
       "<div>\n",
       "<style scoped>\n",
       "    .dataframe tbody tr th:only-of-type {\n",
       "        vertical-align: middle;\n",
       "    }\n",
       "\n",
       "    .dataframe tbody tr th {\n",
       "        vertical-align: top;\n",
       "    }\n",
       "\n",
       "    .dataframe thead th {\n",
       "        text-align: right;\n",
       "    }\n",
       "</style>\n",
       "<table border=\"1\" class=\"dataframe\">\n",
       "  <thead>\n",
       "    <tr style=\"text-align: right;\">\n",
       "      <th></th>\n",
       "      <th>order_id</th>\n",
       "      <th>customer_id</th>\n",
       "      <th>order_status</th>\n",
       "      <th>order_purchase_timestamp</th>\n",
       "      <th>order_approved_at</th>\n",
       "      <th>order_delivered_carrier_date</th>\n",
       "      <th>order_delivered_customer_date</th>\n",
       "      <th>order_estimated_delivery_date</th>\n",
       "      <th>day_name</th>\n",
       "      <th>year</th>\n",
       "      <th>day</th>\n",
       "      <th>month</th>\n",
       "      <th>hour</th>\n",
       "    </tr>\n",
       "  </thead>\n",
       "  <tbody>\n",
       "    <tr>\n",
       "      <th>0</th>\n",
       "      <td>e481f51cbdc54678b7cc49136f2d6af7</td>\n",
       "      <td>9ef432eb6251297304e76186b10a928d</td>\n",
       "      <td>delivered</td>\n",
       "      <td>2017-10-02 10:56:33</td>\n",
       "      <td>2017-10-02 11:07:15</td>\n",
       "      <td>2017-10-04 19:55:00</td>\n",
       "      <td>2017-10-10 21:25:13</td>\n",
       "      <td>2017-10-18</td>\n",
       "      <td>Monday</td>\n",
       "      <td>2017</td>\n",
       "      <td>2</td>\n",
       "      <td>10</td>\n",
       "      <td>10</td>\n",
       "    </tr>\n",
       "    <tr>\n",
       "      <th>1</th>\n",
       "      <td>53cdb2fc8bc7dce0b6741e2150273451</td>\n",
       "      <td>b0830fb4747a6c6d20dea0b8c802d7ef</td>\n",
       "      <td>delivered</td>\n",
       "      <td>2018-07-24 20:41:37</td>\n",
       "      <td>2018-07-26 03:24:27</td>\n",
       "      <td>2018-07-26 14:31:00</td>\n",
       "      <td>2018-08-07 15:27:45</td>\n",
       "      <td>2018-08-13</td>\n",
       "      <td>Tuesday</td>\n",
       "      <td>2018</td>\n",
       "      <td>24</td>\n",
       "      <td>7</td>\n",
       "      <td>20</td>\n",
       "    </tr>\n",
       "    <tr>\n",
       "      <th>2</th>\n",
       "      <td>47770eb9100c2d0c44946d9cf07ec65d</td>\n",
       "      <td>41ce2a54c0b03bf3443c3d931a367089</td>\n",
       "      <td>delivered</td>\n",
       "      <td>2018-08-08 08:38:49</td>\n",
       "      <td>2018-08-08 08:55:23</td>\n",
       "      <td>2018-08-08 13:50:00</td>\n",
       "      <td>2018-08-17 18:06:29</td>\n",
       "      <td>2018-09-04</td>\n",
       "      <td>Wednesday</td>\n",
       "      <td>2018</td>\n",
       "      <td>8</td>\n",
       "      <td>8</td>\n",
       "      <td>8</td>\n",
       "    </tr>\n",
       "    <tr>\n",
       "      <th>3</th>\n",
       "      <td>949d5b44dbf5de918fe9c16f97b45f8a</td>\n",
       "      <td>f88197465ea7920adcdbec7375364d82</td>\n",
       "      <td>delivered</td>\n",
       "      <td>2017-11-18 19:28:06</td>\n",
       "      <td>2017-11-18 19:45:59</td>\n",
       "      <td>2017-11-22 13:39:59</td>\n",
       "      <td>2017-12-02 00:28:42</td>\n",
       "      <td>2017-12-15</td>\n",
       "      <td>Saturday</td>\n",
       "      <td>2017</td>\n",
       "      <td>18</td>\n",
       "      <td>11</td>\n",
       "      <td>19</td>\n",
       "    </tr>\n",
       "    <tr>\n",
       "      <th>4</th>\n",
       "      <td>ad21c59c0840e6cb83a9ceb5573f8159</td>\n",
       "      <td>8ab97904e6daea8866dbdbc4fb7aad2c</td>\n",
       "      <td>delivered</td>\n",
       "      <td>2018-02-13 21:18:39</td>\n",
       "      <td>2018-02-13 22:20:29</td>\n",
       "      <td>2018-02-14 19:46:34</td>\n",
       "      <td>2018-02-16 18:17:02</td>\n",
       "      <td>2018-02-26</td>\n",
       "      <td>Tuesday</td>\n",
       "      <td>2018</td>\n",
       "      <td>13</td>\n",
       "      <td>2</td>\n",
       "      <td>21</td>\n",
       "    </tr>\n",
       "  </tbody>\n",
       "</table>\n",
       "</div>"
      ],
      "text/plain": [
       "                           order_id                       customer_id  \\\n",
       "0  e481f51cbdc54678b7cc49136f2d6af7  9ef432eb6251297304e76186b10a928d   \n",
       "1  53cdb2fc8bc7dce0b6741e2150273451  b0830fb4747a6c6d20dea0b8c802d7ef   \n",
       "2  47770eb9100c2d0c44946d9cf07ec65d  41ce2a54c0b03bf3443c3d931a367089   \n",
       "3  949d5b44dbf5de918fe9c16f97b45f8a  f88197465ea7920adcdbec7375364d82   \n",
       "4  ad21c59c0840e6cb83a9ceb5573f8159  8ab97904e6daea8866dbdbc4fb7aad2c   \n",
       "\n",
       "  order_status order_purchase_timestamp   order_approved_at  \\\n",
       "0    delivered      2017-10-02 10:56:33 2017-10-02 11:07:15   \n",
       "1    delivered      2018-07-24 20:41:37 2018-07-26 03:24:27   \n",
       "2    delivered      2018-08-08 08:38:49 2018-08-08 08:55:23   \n",
       "3    delivered      2017-11-18 19:28:06 2017-11-18 19:45:59   \n",
       "4    delivered      2018-02-13 21:18:39 2018-02-13 22:20:29   \n",
       "\n",
       "  order_delivered_carrier_date order_delivered_customer_date  \\\n",
       "0          2017-10-04 19:55:00           2017-10-10 21:25:13   \n",
       "1          2018-07-26 14:31:00           2018-08-07 15:27:45   \n",
       "2          2018-08-08 13:50:00           2018-08-17 18:06:29   \n",
       "3          2017-11-22 13:39:59           2017-12-02 00:28:42   \n",
       "4          2018-02-14 19:46:34           2018-02-16 18:17:02   \n",
       "\n",
       "  order_estimated_delivery_date   day_name  year  day  month  hour  \n",
       "0                    2017-10-18     Monday  2017    2     10    10  \n",
       "1                    2018-08-13    Tuesday  2018   24      7    20  \n",
       "2                    2018-09-04  Wednesday  2018    8      8     8  \n",
       "3                    2017-12-15   Saturday  2017   18     11    19  \n",
       "4                    2018-02-26    Tuesday  2018   13      2    21  "
      ]
     },
     "execution_count": 28,
     "metadata": {},
     "output_type": "execute_result"
    }
   ],
   "source": [
    "#Extracting table first\n",
    "df_orders_copy['day_name']=df_orders_copy['order_purchase_timestamp'].dt.weekday_name\n",
    "df_orders_copy['year']=df_orders_copy['order_purchase_timestamp'].dt.year\n",
    "df_orders_copy['day']=df_orders_copy['order_purchase_timestamp'].dt.day\n",
    "df_orders_copy['month']=df_orders_copy['order_purchase_timestamp'].dt.month\n",
    "df_orders_copy['hour']=df_orders_copy['order_purchase_timestamp'].dt.hour\n",
    "df_orders_copy.head(5)"
   ]
  },
  {
   "cell_type": "markdown",
   "metadata": {},
   "source": [
    "### Analysis of item dataset (1)"
   ]
  },
  {
   "cell_type": "code",
   "execution_count": 29,
   "metadata": {},
   "outputs": [
    {
     "data": {
      "text/html": [
       "<div>\n",
       "<style scoped>\n",
       "    .dataframe tbody tr th:only-of-type {\n",
       "        vertical-align: middle;\n",
       "    }\n",
       "\n",
       "    .dataframe tbody tr th {\n",
       "        vertical-align: top;\n",
       "    }\n",
       "\n",
       "    .dataframe thead th {\n",
       "        text-align: right;\n",
       "    }\n",
       "</style>\n",
       "<table border=\"1\" class=\"dataframe\">\n",
       "  <thead>\n",
       "    <tr style=\"text-align: right;\">\n",
       "      <th></th>\n",
       "      <th>order_id</th>\n",
       "      <th>order_item_id</th>\n",
       "      <th>product_id</th>\n",
       "      <th>seller_id</th>\n",
       "      <th>price</th>\n",
       "      <th>freight_value</th>\n",
       "      <th>total_order_value</th>\n",
       "    </tr>\n",
       "  </thead>\n",
       "  <tbody>\n",
       "    <tr>\n",
       "      <th>0</th>\n",
       "      <td>00010242fe8c5a6d1ba2dd792cb16214</td>\n",
       "      <td>1</td>\n",
       "      <td>4244733e06e7ecb4970a6e2683c13e61</td>\n",
       "      <td>48436dade18ac8b2bce089ec2a041202</td>\n",
       "      <td>58.90</td>\n",
       "      <td>13.29</td>\n",
       "      <td>72.19</td>\n",
       "    </tr>\n",
       "    <tr>\n",
       "      <th>1</th>\n",
       "      <td>00018f77f2f0320c557190d7a144bdd3</td>\n",
       "      <td>1</td>\n",
       "      <td>e5f2d52b802189ee658865ca93d83a8f</td>\n",
       "      <td>dd7ddc04e1b6c2c614352b383efe2d36</td>\n",
       "      <td>239.90</td>\n",
       "      <td>19.93</td>\n",
       "      <td>259.83</td>\n",
       "    </tr>\n",
       "    <tr>\n",
       "      <th>2</th>\n",
       "      <td>000229ec398224ef6ca0657da4fc703e</td>\n",
       "      <td>1</td>\n",
       "      <td>c777355d18b72b67abbeef9df44fd0fd</td>\n",
       "      <td>5b51032eddd242adc84c38acab88f23d</td>\n",
       "      <td>199.00</td>\n",
       "      <td>17.87</td>\n",
       "      <td>216.87</td>\n",
       "    </tr>\n",
       "    <tr>\n",
       "      <th>3</th>\n",
       "      <td>00024acbcdf0a6daa1e931b038114c75</td>\n",
       "      <td>1</td>\n",
       "      <td>7634da152a4610f1595efa32f14722fc</td>\n",
       "      <td>9d7a1d34a5052409006425275ba1c2b4</td>\n",
       "      <td>12.99</td>\n",
       "      <td>12.79</td>\n",
       "      <td>25.78</td>\n",
       "    </tr>\n",
       "    <tr>\n",
       "      <th>4</th>\n",
       "      <td>00042b26cf59d7ce69dfabb4e55b4fd9</td>\n",
       "      <td>1</td>\n",
       "      <td>ac6c3623068f30de03045865e4e10089</td>\n",
       "      <td>df560393f3a51e74553ab94004ba5c87</td>\n",
       "      <td>199.90</td>\n",
       "      <td>18.14</td>\n",
       "      <td>218.04</td>\n",
       "    </tr>\n",
       "  </tbody>\n",
       "</table>\n",
       "</div>"
      ],
      "text/plain": [
       "                           order_id  order_item_id  \\\n",
       "0  00010242fe8c5a6d1ba2dd792cb16214              1   \n",
       "1  00018f77f2f0320c557190d7a144bdd3              1   \n",
       "2  000229ec398224ef6ca0657da4fc703e              1   \n",
       "3  00024acbcdf0a6daa1e931b038114c75              1   \n",
       "4  00042b26cf59d7ce69dfabb4e55b4fd9              1   \n",
       "\n",
       "                         product_id                         seller_id   price  \\\n",
       "0  4244733e06e7ecb4970a6e2683c13e61  48436dade18ac8b2bce089ec2a041202   58.90   \n",
       "1  e5f2d52b802189ee658865ca93d83a8f  dd7ddc04e1b6c2c614352b383efe2d36  239.90   \n",
       "2  c777355d18b72b67abbeef9df44fd0fd  5b51032eddd242adc84c38acab88f23d  199.00   \n",
       "3  7634da152a4610f1595efa32f14722fc  9d7a1d34a5052409006425275ba1c2b4   12.99   \n",
       "4  ac6c3623068f30de03045865e4e10089  df560393f3a51e74553ab94004ba5c87  199.90   \n",
       "\n",
       "   freight_value  total_order_value  \n",
       "0          13.29              72.19  \n",
       "1          19.93             259.83  \n",
       "2          17.87             216.87  \n",
       "3          12.79              25.78  \n",
       "4          18.14             218.04  "
      ]
     },
     "execution_count": 29,
     "metadata": {},
     "output_type": "execute_result"
    }
   ],
   "source": [
    "df_items_copy = df_items.copy()\n",
    "df_items_copy['total_order_value'] = ((df_items_copy['order_item_id']*df_items_copy['price']) + df_items_copy['order_item_id']*df_items_copy['freight_value'])\n",
    "df_items_copy.head(5)"
   ]
  },
  {
   "cell_type": "markdown",
   "metadata": {},
   "source": [
    "#### Merging item with order "
   ]
  },
  {
   "cell_type": "code",
   "execution_count": 30,
   "metadata": {},
   "outputs": [
    {
     "data": {
      "text/html": [
       "<div>\n",
       "<style scoped>\n",
       "    .dataframe tbody tr th:only-of-type {\n",
       "        vertical-align: middle;\n",
       "    }\n",
       "\n",
       "    .dataframe tbody tr th {\n",
       "        vertical-align: top;\n",
       "    }\n",
       "\n",
       "    .dataframe thead th {\n",
       "        text-align: right;\n",
       "    }\n",
       "</style>\n",
       "<table border=\"1\" class=\"dataframe\">\n",
       "  <thead>\n",
       "    <tr style=\"text-align: right;\">\n",
       "      <th></th>\n",
       "      <th>order_id</th>\n",
       "      <th>customer_id</th>\n",
       "      <th>order_status</th>\n",
       "      <th>order_purchase_timestamp</th>\n",
       "      <th>order_approved_at</th>\n",
       "      <th>order_delivered_carrier_date</th>\n",
       "      <th>order_delivered_customer_date</th>\n",
       "      <th>order_estimated_delivery_date</th>\n",
       "      <th>day_name</th>\n",
       "      <th>year</th>\n",
       "      <th>day</th>\n",
       "      <th>month</th>\n",
       "      <th>hour</th>\n",
       "      <th>order_item_id</th>\n",
       "      <th>product_id</th>\n",
       "      <th>seller_id</th>\n",
       "      <th>price</th>\n",
       "      <th>freight_value</th>\n",
       "      <th>total_order_value</th>\n",
       "    </tr>\n",
       "  </thead>\n",
       "  <tbody>\n",
       "    <tr>\n",
       "      <th>0</th>\n",
       "      <td>e481f51cbdc54678b7cc49136f2d6af7</td>\n",
       "      <td>9ef432eb6251297304e76186b10a928d</td>\n",
       "      <td>delivered</td>\n",
       "      <td>2017-10-02 10:56:33</td>\n",
       "      <td>2017-10-02 11:07:15</td>\n",
       "      <td>2017-10-04 19:55:00</td>\n",
       "      <td>2017-10-10 21:25:13</td>\n",
       "      <td>2017-10-18</td>\n",
       "      <td>Monday</td>\n",
       "      <td>2017</td>\n",
       "      <td>2</td>\n",
       "      <td>10</td>\n",
       "      <td>10</td>\n",
       "      <td>1.0</td>\n",
       "      <td>87285b34884572647811a353c7ac498a</td>\n",
       "      <td>3504c0cb71d7fa48d967e0e4c94d59d9</td>\n",
       "      <td>29.99</td>\n",
       "      <td>8.72</td>\n",
       "      <td>38.71</td>\n",
       "    </tr>\n",
       "    <tr>\n",
       "      <th>1</th>\n",
       "      <td>53cdb2fc8bc7dce0b6741e2150273451</td>\n",
       "      <td>b0830fb4747a6c6d20dea0b8c802d7ef</td>\n",
       "      <td>delivered</td>\n",
       "      <td>2018-07-24 20:41:37</td>\n",
       "      <td>2018-07-26 03:24:27</td>\n",
       "      <td>2018-07-26 14:31:00</td>\n",
       "      <td>2018-08-07 15:27:45</td>\n",
       "      <td>2018-08-13</td>\n",
       "      <td>Tuesday</td>\n",
       "      <td>2018</td>\n",
       "      <td>24</td>\n",
       "      <td>7</td>\n",
       "      <td>20</td>\n",
       "      <td>1.0</td>\n",
       "      <td>595fac2a385ac33a80bd5114aec74eb8</td>\n",
       "      <td>289cdb325fb7e7f891c38608bf9e0962</td>\n",
       "      <td>118.70</td>\n",
       "      <td>22.76</td>\n",
       "      <td>141.46</td>\n",
       "    </tr>\n",
       "    <tr>\n",
       "      <th>2</th>\n",
       "      <td>47770eb9100c2d0c44946d9cf07ec65d</td>\n",
       "      <td>41ce2a54c0b03bf3443c3d931a367089</td>\n",
       "      <td>delivered</td>\n",
       "      <td>2018-08-08 08:38:49</td>\n",
       "      <td>2018-08-08 08:55:23</td>\n",
       "      <td>2018-08-08 13:50:00</td>\n",
       "      <td>2018-08-17 18:06:29</td>\n",
       "      <td>2018-09-04</td>\n",
       "      <td>Wednesday</td>\n",
       "      <td>2018</td>\n",
       "      <td>8</td>\n",
       "      <td>8</td>\n",
       "      <td>8</td>\n",
       "      <td>1.0</td>\n",
       "      <td>aa4383b373c6aca5d8797843e5594415</td>\n",
       "      <td>4869f7a5dfa277a7dca6462dcf3b52b2</td>\n",
       "      <td>159.90</td>\n",
       "      <td>19.22</td>\n",
       "      <td>179.12</td>\n",
       "    </tr>\n",
       "    <tr>\n",
       "      <th>3</th>\n",
       "      <td>949d5b44dbf5de918fe9c16f97b45f8a</td>\n",
       "      <td>f88197465ea7920adcdbec7375364d82</td>\n",
       "      <td>delivered</td>\n",
       "      <td>2017-11-18 19:28:06</td>\n",
       "      <td>2017-11-18 19:45:59</td>\n",
       "      <td>2017-11-22 13:39:59</td>\n",
       "      <td>2017-12-02 00:28:42</td>\n",
       "      <td>2017-12-15</td>\n",
       "      <td>Saturday</td>\n",
       "      <td>2017</td>\n",
       "      <td>18</td>\n",
       "      <td>11</td>\n",
       "      <td>19</td>\n",
       "      <td>1.0</td>\n",
       "      <td>d0b61bfb1de832b15ba9d266ca96e5b0</td>\n",
       "      <td>66922902710d126a0e7d26b0e3805106</td>\n",
       "      <td>45.00</td>\n",
       "      <td>27.20</td>\n",
       "      <td>72.20</td>\n",
       "    </tr>\n",
       "    <tr>\n",
       "      <th>4</th>\n",
       "      <td>ad21c59c0840e6cb83a9ceb5573f8159</td>\n",
       "      <td>8ab97904e6daea8866dbdbc4fb7aad2c</td>\n",
       "      <td>delivered</td>\n",
       "      <td>2018-02-13 21:18:39</td>\n",
       "      <td>2018-02-13 22:20:29</td>\n",
       "      <td>2018-02-14 19:46:34</td>\n",
       "      <td>2018-02-16 18:17:02</td>\n",
       "      <td>2018-02-26</td>\n",
       "      <td>Tuesday</td>\n",
       "      <td>2018</td>\n",
       "      <td>13</td>\n",
       "      <td>2</td>\n",
       "      <td>21</td>\n",
       "      <td>1.0</td>\n",
       "      <td>65266b2da20d04dbe00c5c2d3bb7859e</td>\n",
       "      <td>2c9e548be18521d1c43cde1c582c6de8</td>\n",
       "      <td>19.90</td>\n",
       "      <td>8.72</td>\n",
       "      <td>28.62</td>\n",
       "    </tr>\n",
       "  </tbody>\n",
       "</table>\n",
       "</div>"
      ],
      "text/plain": [
       "                           order_id                       customer_id  \\\n",
       "0  e481f51cbdc54678b7cc49136f2d6af7  9ef432eb6251297304e76186b10a928d   \n",
       "1  53cdb2fc8bc7dce0b6741e2150273451  b0830fb4747a6c6d20dea0b8c802d7ef   \n",
       "2  47770eb9100c2d0c44946d9cf07ec65d  41ce2a54c0b03bf3443c3d931a367089   \n",
       "3  949d5b44dbf5de918fe9c16f97b45f8a  f88197465ea7920adcdbec7375364d82   \n",
       "4  ad21c59c0840e6cb83a9ceb5573f8159  8ab97904e6daea8866dbdbc4fb7aad2c   \n",
       "\n",
       "  order_status order_purchase_timestamp   order_approved_at  \\\n",
       "0    delivered      2017-10-02 10:56:33 2017-10-02 11:07:15   \n",
       "1    delivered      2018-07-24 20:41:37 2018-07-26 03:24:27   \n",
       "2    delivered      2018-08-08 08:38:49 2018-08-08 08:55:23   \n",
       "3    delivered      2017-11-18 19:28:06 2017-11-18 19:45:59   \n",
       "4    delivered      2018-02-13 21:18:39 2018-02-13 22:20:29   \n",
       "\n",
       "  order_delivered_carrier_date order_delivered_customer_date  \\\n",
       "0          2017-10-04 19:55:00           2017-10-10 21:25:13   \n",
       "1          2018-07-26 14:31:00           2018-08-07 15:27:45   \n",
       "2          2018-08-08 13:50:00           2018-08-17 18:06:29   \n",
       "3          2017-11-22 13:39:59           2017-12-02 00:28:42   \n",
       "4          2018-02-14 19:46:34           2018-02-16 18:17:02   \n",
       "\n",
       "  order_estimated_delivery_date   day_name  year  day  month  hour  \\\n",
       "0                    2017-10-18     Monday  2017    2     10    10   \n",
       "1                    2018-08-13    Tuesday  2018   24      7    20   \n",
       "2                    2018-09-04  Wednesday  2018    8      8     8   \n",
       "3                    2017-12-15   Saturday  2017   18     11    19   \n",
       "4                    2018-02-26    Tuesday  2018   13      2    21   \n",
       "\n",
       "   order_item_id                        product_id  \\\n",
       "0            1.0  87285b34884572647811a353c7ac498a   \n",
       "1            1.0  595fac2a385ac33a80bd5114aec74eb8   \n",
       "2            1.0  aa4383b373c6aca5d8797843e5594415   \n",
       "3            1.0  d0b61bfb1de832b15ba9d266ca96e5b0   \n",
       "4            1.0  65266b2da20d04dbe00c5c2d3bb7859e   \n",
       "\n",
       "                          seller_id   price  freight_value  total_order_value  \n",
       "0  3504c0cb71d7fa48d967e0e4c94d59d9   29.99           8.72              38.71  \n",
       "1  289cdb325fb7e7f891c38608bf9e0962  118.70          22.76             141.46  \n",
       "2  4869f7a5dfa277a7dca6462dcf3b52b2  159.90          19.22             179.12  \n",
       "3  66922902710d126a0e7d26b0e3805106   45.00          27.20              72.20  \n",
       "4  2c9e548be18521d1c43cde1c582c6de8   19.90           8.72              28.62  "
      ]
     },
     "execution_count": 30,
     "metadata": {},
     "output_type": "execute_result"
    }
   ],
   "source": [
    "#We can use either this below or below next\n",
    "#df_orders_copy.set_index('order_id').join(df_items_copy.set_index('order_id'))\n",
    "df_join_item_order = df_orders_copy.join(df_items_copy.set_index('order_id'), on='order_id')\n",
    "df_join_item_order.head(5)"
   ]
  },
  {
   "cell_type": "code",
   "execution_count": 31,
   "metadata": {},
   "outputs": [
    {
     "data": {
      "text/plain": [
       "order_id                                 object\n",
       "customer_id                              object\n",
       "order_status                             object\n",
       "order_purchase_timestamp         datetime64[ns]\n",
       "order_approved_at                datetime64[ns]\n",
       "order_delivered_carrier_date     datetime64[ns]\n",
       "order_delivered_customer_date    datetime64[ns]\n",
       "order_estimated_delivery_date    datetime64[ns]\n",
       "day_name                                 object\n",
       "year                                      int64\n",
       "day                                       int64\n",
       "month                                     int64\n",
       "hour                                      int64\n",
       "order_item_id                           float64\n",
       "product_id                               object\n",
       "seller_id                                object\n",
       "price                                   float64\n",
       "freight_value                           float64\n",
       "total_order_value                       float64\n",
       "dtype: object"
      ]
     },
     "execution_count": 31,
     "metadata": {},
     "output_type": "execute_result"
    }
   ],
   "source": [
    "df_join_item_order.dtypes"
   ]
  },
  {
   "cell_type": "code",
   "execution_count": 33,
   "metadata": {},
   "outputs": [
    {
     "data": {
      "text/plain": [
       "Text(0,0.5,'Revenue in BRL (Brasilian Real)')"
      ]
     },
     "execution_count": 33,
     "metadata": {},
     "output_type": "execute_result"
    },
    {
     "data": {
      "image/png": "[encoded data removed]",
      "text/plain": [
       "<Figure size 576x720 with 1 Axes>"
      ]
     },
     "metadata": {},
     "output_type": "display_data"
    }
   ],
   "source": [
    "valuegraph1 = df_join_item_order.groupby('year')['total_order_value'].sum()\n",
    "valuegraph1fix = valuegraph1.plot(kind=\"bar\", figsize = (8,10))\n",
    "valuegraph1fix.set_title('Total revenue in each year')\n",
    "valuegraph1fix.set_xlabel('Year')\n",
    "valuegraph1fix.set_ylabel('Revenue in BRL (Brasilian Real)')"
   ]
  },
  {
   "cell_type": "code",
   "execution_count": 34,
   "metadata": {},
   "outputs": [],
   "source": [
    "# SKIP \n",
    "# Still not doin anything with this! doesn't have any idea with all great respects\n",
    "# brp2 = df_join_item_order.iloc[:, :-1]\n",
    "# I use X = df.iloc[:, :-1].values, it will select till the second last column of the data frame instead of the last column \n",
    "# (which is what I want BUT it's a strange behavior I've never seen before), and I know this as the second last column's value and the last column's value for that row is different.\n",
    "# print(brp2)"
   ]
  },
  {
   "cell_type": "markdown",
   "metadata": {},
   "source": [
    "### Analysis of order dataset (1)"
   ]
  },
  {
   "cell_type": "code",
   "execution_count": 35,
   "metadata": {},
   "outputs": [
    {
     "name": "stdout",
     "output_type": "stream",
     "text": [
      "order_id                         object\n",
      "customer_id                      object\n",
      "order_status                     object\n",
      "order_purchase_timestamp         object\n",
      "order_approved_at                object\n",
      "order_delivered_carrier_date     object\n",
      "order_delivered_customer_date    object\n",
      "order_estimated_delivery_date    object\n",
      "dtype: object\n"
     ]
    }
   ],
   "source": [
    "print(df_orders.dtypes)"
   ]
  },
  {
   "cell_type": "code",
   "execution_count": 36,
   "metadata": {},
   "outputs": [
    {
     "name": "stdout",
     "output_type": "stream",
     "text": [
      "Order database contains 99441 rows and 8 columns\n"
     ]
    }
   ],
   "source": [
    "print(\"Order database contains\", df_orders.shape[0], \"rows and\", df_orders.shape[1], \"columns\")"
   ]
  },
  {
   "cell_type": "code",
   "execution_count": 37,
   "metadata": {},
   "outputs": [
    {
     "name": "stdout",
     "output_type": "stream",
     "text": [
      "Number of unique orders :  99441\n",
      "Number of distinct customer made orders :  99441\n"
     ]
    }
   ],
   "source": [
    "#Unique number of Order id, since products could be bought from same order\n",
    "orders_un = df_orders[\"order_id\"].nunique()\n",
    "print(\"Number of unique orders : \", orders_un)\n",
    "\n",
    "#Distinct customer made orders\n",
    "customers_un = df_orders[\"customer_id\"].nunique()\n",
    "print(\"Number of distinct customer made orders : \", customers_un)"
   ]
  },
  {
   "cell_type": "code",
   "execution_count": 38,
   "metadata": {},
   "outputs": [
    {
     "data": {
      "text/html": [
       "<div>\n",
       "<style scoped>\n",
       "    .dataframe tbody tr th:only-of-type {\n",
       "        vertical-align: middle;\n",
       "    }\n",
       "\n",
       "    .dataframe tbody tr th {\n",
       "        vertical-align: top;\n",
       "    }\n",
       "\n",
       "    .dataframe thead th {\n",
       "        text-align: right;\n",
       "    }\n",
       "</style>\n",
       "<table border=\"1\" class=\"dataframe\">\n",
       "  <thead>\n",
       "    <tr style=\"text-align: right;\">\n",
       "      <th></th>\n",
       "      <th>order_id</th>\n",
       "      <th>customer_id</th>\n",
       "      <th>order_status</th>\n",
       "      <th>order_purchase_timestamp</th>\n",
       "      <th>order_approved_at</th>\n",
       "      <th>order_delivered_carrier_date</th>\n",
       "      <th>order_delivered_customer_date</th>\n",
       "      <th>order_estimated_delivery_date</th>\n",
       "    </tr>\n",
       "  </thead>\n",
       "  <tbody>\n",
       "    <tr>\n",
       "      <th>count</th>\n",
       "      <td>99441</td>\n",
       "      <td>99441</td>\n",
       "      <td>99441</td>\n",
       "      <td>99441</td>\n",
       "      <td>99281</td>\n",
       "      <td>97658</td>\n",
       "      <td>96476</td>\n",
       "      <td>99441</td>\n",
       "    </tr>\n",
       "    <tr>\n",
       "      <th>unique</th>\n",
       "      <td>99441</td>\n",
       "      <td>99441</td>\n",
       "      <td>8</td>\n",
       "      <td>98875</td>\n",
       "      <td>90733</td>\n",
       "      <td>81018</td>\n",
       "      <td>95664</td>\n",
       "      <td>459</td>\n",
       "    </tr>\n",
       "    <tr>\n",
       "      <th>top</th>\n",
       "      <td>4381b4b79d51e72e0eb56a2fd1aea7b9</td>\n",
       "      <td>568f8c7d0e1e623a8dae413108936afb</td>\n",
       "      <td>delivered</td>\n",
       "      <td>2018-02-19 15:37:47</td>\n",
       "      <td>2018-02-27 04:31:10</td>\n",
       "      <td>2018-05-09 15:48:00</td>\n",
       "      <td>2016-10-27 17:32:07</td>\n",
       "      <td>2017-12-20 00:00:00</td>\n",
       "    </tr>\n",
       "    <tr>\n",
       "      <th>freq</th>\n",
       "      <td>1</td>\n",
       "      <td>1</td>\n",
       "      <td>96478</td>\n",
       "      <td>3</td>\n",
       "      <td>9</td>\n",
       "      <td>47</td>\n",
       "      <td>3</td>\n",
       "      <td>522</td>\n",
       "    </tr>\n",
       "  </tbody>\n",
       "</table>\n",
       "</div>"
      ],
      "text/plain": [
       "                                order_id                       customer_id  \\\n",
       "count                              99441                             99441   \n",
       "unique                             99441                             99441   \n",
       "top     4381b4b79d51e72e0eb56a2fd1aea7b9  568f8c7d0e1e623a8dae413108936afb   \n",
       "freq                                   1                                 1   \n",
       "\n",
       "       order_status order_purchase_timestamp    order_approved_at  \\\n",
       "count         99441                    99441                99281   \n",
       "unique            8                    98875                90733   \n",
       "top       delivered      2018-02-19 15:37:47  2018-02-27 04:31:10   \n",
       "freq          96478                        3                    9   \n",
       "\n",
       "       order_delivered_carrier_date order_delivered_customer_date  \\\n",
       "count                         97658                         96476   \n",
       "unique                        81018                         95664   \n",
       "top             2018-05-09 15:48:00           2016-10-27 17:32:07   \n",
       "freq                             47                             3   \n",
       "\n",
       "       order_estimated_delivery_date  \n",
       "count                          99441  \n",
       "unique                           459  \n",
       "top              2017-12-20 00:00:00  \n",
       "freq                             522  "
      ]
     },
     "execution_count": 38,
     "metadata": {},
     "output_type": "execute_result"
    }
   ],
   "source": [
    "df_orders.describe()"
   ]
  },
  {
   "cell_type": "markdown",
   "metadata": {},
   "source": [
    "### Analysis of \"order\" dataset (2) - Visual"
   ]
  },
  {
   "cell_type": "code",
   "execution_count": 39,
   "metadata": {},
   "outputs": [
    {
     "data": {
      "text/plain": [
       "<matplotlib.axes._subplots.AxesSubplot at 0x1660eecbfd0>"
      ]
     },
     "execution_count": 39,
     "metadata": {},
     "output_type": "execute_result"
    },
    {
     "data": {
      "image/png": "[encoded data removed]",
      "text/plain": [
       "<Figure size 1152x576 with 1 Axes>"
      ]
     },
     "metadata": {},
     "output_type": "display_data"
    }
   ],
   "source": [
    "#date_span = df_orders_copy.set_index(\"order_purchase_timestamp\").(groupbyd.Grouper(freq='D')).count()\n",
    "date_span = df_orders_copy.set_index(\"order_purchase_timestamp\").groupby(pd.Grouper(freq='D')).count()\n",
    "fig1 = plt.figure(figsize=(16,8))\n",
    "ax = fig1.gca()\n",
    "date_span.plot(y=\"order_id\", use_index=True, ax=ax)"
   ]
  },
  {
   "cell_type": "code",
   "execution_count": 40,
   "metadata": {},
   "outputs": [
    {
     "name": "stdout",
     "output_type": "stream",
     "text": [
      "                               order_id                       customer_id  \\\n",
      "8      76c6e866289321a7c93b82b54852dc33  f54a9f0e6b351c431402b8461ea51999   \n",
      "106    a6cd683d4bd3b9b1f0aa37b27f8116d3  48f239e15744ed5e7ffbafc6bb6e882b   \n",
      "236    f175d67589e059cbbda956f10f0702e6  a4555d257db29ef5f838cec4101c5208   \n",
      "303    bd2623f3663c5daa3f89e6b527fd49da  b7b15ab12fa50616eee696a22f098e07   \n",
      "457    3440f090efa1949bc4e9ebd0b89b2b6c  2acac3dfe4fa0e75b07461873a67e7e6   \n",
      "464    8adafb3466daa5395694d3a906ff9d40  b7919647bde69acc948baa47823d6c75   \n",
      "468    a87f63f16c37c383775f476c6f22b635  fd673a07896aec385c5287234605f166   \n",
      "714    bb2dfe6031f35f7abc9a3c7dad5e4467  01e0d4fb731e6ee47df3f3f179cc0a0b   \n",
      "811    f3c95cc4d7074e5b709ac1a9c10dea1c  e05df6dee2d1b0a7782f771120b9e826   \n",
      "827    7ab9c55c59eaeea579d047e2d8aaed81  feca0f935fcce79dd42d409d96af9645   \n",
      "934    747996a66f5aa711deb8ae58f5ae46a0  ed1793d2d1e4175d5846ce7ebb4a01f5   \n",
      "944    dd480c63548e3c0b7219520e3784ebd2  a83a89abd16a03e6376fb659ca7b6612   \n",
      "1051   a10231eb95955f12c2bbc1e34e25c950  ebc886e9e3226e7da3ccb10bba7c5c4e   \n",
      "1178   99c0817d6ecd5fe55d21540917f1f5f9  9ec73448134f871bc7bdfdfd444813eb   \n",
      "1199   4ceb9336411700f9568db2ef11bda594  60582a6628af83a283474d8c94e3ff7a   \n",
      "1369   7249fd69ae42373a6a357567e41ecc57  c2a3ea344de262f71dfb5d9f83a02adf   \n",
      "1486   e08f76fed43c999d57979d1879871ce1  61aecad4ecccb2ef8e88726a68d832d5   \n",
      "1614   33ef079ec39c1b46e6e552e038e67c5b  4a5dc0dfa0d6bb6fee6eac33a4b39d7b   \n",
      "1663   eabfb81cf01d772d65405ff27c793ddb  e44d9a10a0978d6c21403879bf8076d0   \n",
      "1763   2e2e88c4bb691287b71a9e1ee8a193a4  439f42a3cd2931ef5f1bb20e54f2357d   \n",
      "1841   6d02a007afc7698b7dd60ffb07514d1c  0423a0c4b6eea9435c2f40758658a2d4   \n",
      "1914   0957ed870116e596b800540427c61497  0f0603d577f299ca129f39109268c546   \n",
      "2016   f7a4be4d6edb66bd0e62e91e1bbc9061  30df93bd0e2874646d39d37dec1764d5   \n",
      "2101   a3d1ef2562cf71542edfed06c1a7b6c8  5f825bf617f8288a4cb4f50c3c179794   \n",
      "2381   3005c05dbcb19ff903a28b5d654bb1cf  b70dd1b7a273c0378edb26d95390f857   \n",
      "2418   7ece3f32d060f91a98d50279ab15ebaf  29d768c153dabfc1ecfeb0c1c389727f   \n",
      "2532   09f58c00f941827ab206de7796785e44  7c94da97db6fe83e123f80baab533a97   \n",
      "2659   bda31774eda0320ee68c33da94027e4d  15b7fb20d8805996eca064ddedb843c6   \n",
      "2684   3568894fa3afedc367d3a4816983dceb  bfbe1fd99d9d53a58d06966a0f4eb5de   \n",
      "2774   481f2db41ea6571226192db2b584fa6e  bae2e17717f1e6f357bbac0107dabfd6   \n",
      "...                                 ...                               ...   \n",
      "95967  e75011be2ec3dec23d2ed6757d35c792  7dec82bd3f93ed6107cb7bc7e2242618   \n",
      "96055  ce678bd6591f2487c9b4f5af45b4619f  8b16b8c513d302bd3d2f218644fed1a0   \n",
      "96142  2272148d6abbd3d385088f3e101edec9  1041f7da9362e74424e9763777b0f948   \n",
      "96574  8f1a2a26d4f0ed5608a8857e0e88b7ad  725053273ea08ee2997d63e7a36b984c   \n",
      "96660  7090c88db4158f89d839c794cdd73272  edce8c7c09759f2efe2486aff649a7fc   \n",
      "96801  0fd3cee523a106ac501c4cf18f56a4de  c41bb9b32eecfb353668815360270496   \n",
      "97065  5a37429384be05ca14780e4989543688  03b753419e88796de2c7127ff13dce58   \n",
      "97105  ba78eeba3ae33579487bedc08dce96be  4bfe7cd506a992a41031d3fe407e2b2b   \n",
      "97110  bdf4423bf60eac03b6786ebd0e507cc1  0040b00970e2139e8c43b647c0da5305   \n",
      "97230  ce500b2ca0d960f937fb4d24282d3291  b77ef6aa11b50074739e74d4a78ae4a9   \n",
      "97250  b73f09200030e4970b9840b72a630e45  ba12c461af37457048f420e37de2abab   \n",
      "97360  8ffd24fbf822586b2712a4becc7217dc  2f9e8eaed5dc638e5b884a9a37268fca   \n",
      "97461  bfbf87cc2829df6adac299ab0cc012bc  816346b2de82fd39be31ae7f42fef07f   \n",
      "97862  9dc6746a8f29fafaa637f2239a9f3d28  33e655dd86058bc865f1f3d9fa5912aa   \n",
      "97875  44ed09232a24ad29cf2457b2780e806b  2b8784fee7592d8c11a970f175cb5d71   \n",
      "97911  e6ba7ef3fa398a176291132b06cd519e  b7a4690ba0bc91f249bb7fd25b3be748   \n",
      "97943  032bc75236a1cbaf410bb596a509e774  a0ba6852184c70cbee04bed3909bf011   \n",
      "98077  c870c1f3a9ba62194d1060c0accb18dd  1ad07b0c4441e0b5550631b23fc22312   \n",
      "98135  56a726fa0f40d3678696e62aaed9690d  dc7302a83e9681f614bb59a515df38b3   \n",
      "98177  d44df0d4c71052d8b2a3bd5c50bd42b5  46e69377adf8857c9ce9c568ba073b06   \n",
      "98284  94b35c9542f07ad80b3367f9051b63af  ae3a3a6fd9128d8617e2cb3a88a7598b   \n",
      "98290  03b218d39c422c250f389120c531b61f  db857a86c685a6a3a02a705961ec1ff1   \n",
      "98310  d2e9aead95751dd6bd0ce80e7d506c53  d40e29db86a4db2aeaf8fa2b22c48f5e   \n",
      "98372  c818ed0d99c7998f73659bd934936177  b001c30609da9b8618f69ef5bd322b5b   \n",
      "98439  d3a49dd2f9c21558b7a82c8f076f6c1d  3619684d733b95a9860ca496206a6ab0   \n",
      "98916  3ab4eea6776259ae8dfbabaeffece352  24d46169d90daaa687cbf122c3243df8   \n",
      "99180  469f0b908881368c45917f1bed8240ce  59e4d7310198da197337571749b47ff2   \n",
      "99280  fd930246eb1c751ee75add493e49ea34  3422a239d7c7bf95b72216d779a28de6   \n",
      "99329  9058bc799c3791077efb3aaa8e0d5e02  3fb83e207757e8f15ff70d937c86929b   \n",
      "99434  aa04ef5214580b06b10e2a378300db44  f01a6bfcc730456317e4081fe0c9940e   \n",
      "\n",
      "      order_status order_purchase_timestamp   order_approved_at  \\\n",
      "8        delivered      2017-01-23 18:29:09 2017-01-25 02:50:47   \n",
      "106      delivered      2017-01-28 23:45:53 2017-01-29 01:31:48   \n",
      "236      delivered      2017-01-05 13:34:35 2017-01-07 03:45:40   \n",
      "303      delivered      2017-01-21 17:08:01 2017-01-21 17:22:49   \n",
      "457      delivered      2017-01-27 00:34:10 2017-01-28 04:34:44   \n",
      "464      delivered      2017-01-25 15:47:27 2017-01-25 16:02:29   \n",
      "468      delivered      2017-01-14 15:42:20 2017-01-14 15:50:20   \n",
      "714      delivered      2017-01-22 14:09:03 2017-01-22 14:30:43   \n",
      "811      delivered      2017-01-22 16:10:09 2017-01-23 20:55:19   \n",
      "827      delivered      2017-01-22 13:04:20 2017-01-25 02:55:21   \n",
      "934      delivered      2017-01-05 15:25:10 2017-01-07 03:44:28   \n",
      "944      delivered      2017-01-26 16:25:36 2017-01-26 16:35:22   \n",
      "1051     delivered      2017-01-31 17:14:07 2017-01-31 17:25:17   \n",
      "1178     delivered      2017-01-26 11:51:38 2017-01-26 12:02:09   \n",
      "1199     delivered      2017-01-19 22:41:52 2017-01-19 22:55:17   \n",
      "1369     delivered      2017-01-26 22:15:22 2017-01-26 22:25:11   \n",
      "1486     delivered      2017-01-26 16:48:24 2017-01-28 04:36:02   \n",
      "1614     delivered      2017-01-15 18:57:33 2017-01-15 19:10:17   \n",
      "1663     delivered      2017-01-23 16:57:22 2017-01-24 06:50:18   \n",
      "1763     delivered      2017-01-12 23:42:50 2017-01-17 11:35:11   \n",
      "1841     delivered      2017-01-30 14:51:21 2017-01-30 15:34:05   \n",
      "1914     delivered      2017-01-29 22:14:49 2017-01-29 22:33:34   \n",
      "2016     delivered      2017-01-17 10:49:05 2017-01-17 11:02:18   \n",
      "2101       shipped      2017-01-21 11:43:35 2017-01-24 03:42:07   \n",
      "2381     delivered      2017-01-25 16:57:30 2017-01-25 17:10:20   \n",
      "2418     delivered      2017-01-25 01:23:07 2017-01-25 01:35:07   \n",
      "2532     delivered      2017-01-05 16:05:07 2017-01-07 03:35:34   \n",
      "2659     delivered      2017-01-23 18:34:12 2017-01-24 18:42:03   \n",
      "2684     delivered      2017-01-24 15:59:17 2017-01-25 02:42:25   \n",
      "2774     delivered      2017-01-26 18:27:04 2017-01-26 19:00:21   \n",
      "...            ...                      ...                 ...   \n",
      "95967    delivered      2017-01-19 14:38:27 2017-01-19 14:50:07   \n",
      "96055    delivered      2017-01-13 20:08:30 2017-01-13 20:23:00   \n",
      "96142    delivered      2017-01-30 10:03:21 2017-02-01 04:33:31   \n",
      "96574     invoiced      2017-01-27 18:18:31 2017-01-28 10:32:58   \n",
      "96660    delivered      2017-01-29 10:03:54 2017-01-31 04:32:23   \n",
      "96801    delivered      2017-01-14 17:44:58 2017-01-14 17:55:18   \n",
      "97065    delivered      2017-01-18 17:42:22 2017-01-18 17:55:09   \n",
      "97105    delivered      2017-01-24 14:14:29 2017-01-24 14:25:22   \n",
      "97110    delivered      2017-01-26 23:10:07 2017-01-26 23:25:14   \n",
      "97230    delivered      2017-01-27 12:15:07 2017-01-28 04:34:27   \n",
      "97250    delivered      2017-01-31 19:07:34 2017-01-31 19:21:36   \n",
      "97360    delivered      2017-01-29 00:31:42 2017-01-29 01:32:22   \n",
      "97461    delivered      2017-01-26 21:58:21 2017-01-26 22:05:20   \n",
      "97862    delivered      2017-01-25 20:11:36 2017-01-25 20:25:13   \n",
      "97875    delivered      2017-01-26 22:44:11 2017-01-26 22:55:10   \n",
      "97911    delivered      2017-01-27 16:21:48 2017-01-27 17:32:11   \n",
      "97943    delivered      2017-01-20 22:18:06 2017-01-20 22:25:17   \n",
      "98077    delivered      2017-01-22 11:15:23 2017-01-22 11:30:16   \n",
      "98135    delivered      2017-01-25 00:46:17 2017-01-25 01:02:14   \n",
      "98177    delivered      2017-01-31 09:31:33 2017-02-01 10:31:59   \n",
      "98284    delivered      2017-01-24 12:38:48 2017-01-25 02:42:34   \n",
      "98290    delivered      2017-01-14 14:20:01 2017-01-14 14:30:43   \n",
      "98310    delivered      2017-01-16 23:25:16 2017-01-16 23:35:20   \n",
      "98372    delivered      2017-01-25 10:09:17 2017-01-26 02:10:33   \n",
      "98439    delivered      2017-01-16 14:04:11 2017-01-18 14:01:22   \n",
      "98916    delivered      2017-01-16 21:08:25 2017-01-16 21:21:52   \n",
      "99180    delivered      2017-01-24 21:35:25 2017-01-25 16:30:14   \n",
      "99280    delivered      2017-01-14 21:28:46 2017-01-14 21:42:21   \n",
      "99329    delivered      2017-01-24 09:24:11 2017-01-25 02:45:13   \n",
      "99434    delivered      2017-01-27 00:30:03 2017-01-27 01:05:25   \n",
      "\n",
      "      order_delivered_carrier_date order_delivered_customer_date  \\\n",
      "8              2017-01-26 14:16:31           2017-02-02 14:08:10   \n",
      "106            2017-02-01 14:25:06           2017-02-10 17:30:19   \n",
      "236            2017-01-11 16:25:57           2017-01-17 15:52:28   \n",
      "303            2017-01-24 07:47:47           2017-01-27 18:12:13   \n",
      "457            2017-01-30 09:57:31           2017-02-10 18:43:38   \n",
      "464            2017-02-07 08:09:23           2017-02-14 14:03:35   \n",
      "468            2017-01-16 09:38:03           2017-01-30 11:21:56   \n",
      "714            2017-01-23 11:21:46           2017-01-30 12:37:55   \n",
      "811            2017-01-26 05:47:32           2017-01-30 15:06:11   \n",
      "827            2017-01-26 16:41:28           2017-02-01 00:52:30   \n",
      "934            2017-01-11 15:59:08           2017-01-16 15:18:08   \n",
      "944            2017-01-27 12:47:43           2017-02-08 14:47:25   \n",
      "1051           2017-02-06 10:16:07           2017-02-14 18:09:22   \n",
      "1178           2017-01-26 12:33:59           2017-02-01 12:14:10   \n",
      "1199           2017-01-20 16:27:58           2017-01-26 13:57:59   \n",
      "1369           2017-01-27 16:14:22           2017-02-08 09:52:05   \n",
      "1486           2017-02-01 12:38:57           2017-02-08 16:54:37   \n",
      "1614           2017-01-18 04:57:56           2017-01-20 16:47:51   \n",
      "1663           2017-01-25 10:56:42           2017-02-02 10:25:07   \n",
      "1763           2017-01-17 14:44:18           2017-01-26 13:11:27   \n",
      "1841           2017-02-02 12:12:35           2017-02-15 12:53:45   \n",
      "1914           2017-01-30 08:27:47           2017-02-08 17:14:55   \n",
      "2016           2017-01-18 12:40:23           2017-01-30 13:28:43   \n",
      "2101           2017-01-24 10:16:53                           NaT   \n",
      "2381           2017-01-31 07:27:52           2017-02-02 14:29:07   \n",
      "2418           2017-01-30 10:17:10           2017-02-09 10:14:41   \n",
      "2532           2017-01-11 15:47:40           2017-01-16 15:43:31   \n",
      "2659           2017-01-27 14:20:55           2017-02-03 08:37:33   \n",
      "2684           2017-01-27 07:05:47           2017-02-09 06:28:44   \n",
      "2774           2017-02-06 11:54:29           2017-02-13 13:34:45   \n",
      "...                            ...                           ...   \n",
      "95967          2017-01-20 14:12:55           2017-01-23 12:38:48   \n",
      "96055          2017-01-16 12:25:16           2017-01-23 12:39:22   \n",
      "96142          2017-02-03 11:06:14           2017-02-09 18:48:40   \n",
      "96574                          NaT                           NaT   \n",
      "96660          2017-01-31 14:10:50           2017-02-07 10:18:00   \n",
      "96801          2017-01-23 15:22:11           2017-01-30 10:43:29   \n",
      "97065          2017-01-23 11:19:08           2017-02-06 13:33:56   \n",
      "97105          2017-01-25 09:38:56           2017-02-10 12:09:03   \n",
      "97110          2017-02-06 11:54:30           2017-02-15 15:27:48   \n",
      "97230          2017-01-31 10:05:13           2017-02-15 18:22:02   \n",
      "97250          2017-02-02 14:39:20           2017-02-14 11:12:29   \n",
      "97360          2017-01-30 09:11:53           2017-02-07 10:34:04   \n",
      "97461          2017-01-30 12:14:13           2017-02-06 13:13:10   \n",
      "97862          2017-01-26 11:38:10           2017-02-01 12:32:33   \n",
      "97875          2017-01-31 14:06:00           2017-02-08 08:09:06   \n",
      "97911          2017-01-31 17:18:02           2017-02-10 09:34:01   \n",
      "97943          2017-01-23 09:03:46           2017-01-30 18:35:00   \n",
      "98077          2017-01-26 16:27:29           2017-01-31 19:43:50   \n",
      "98135          2017-01-27 10:51:56           2017-01-31 17:43:01   \n",
      "98177          2017-02-01 11:11:40           2017-02-08 14:14:15   \n",
      "98284          2017-01-26 16:32:31           2017-02-07 08:42:04   \n",
      "98290          2017-01-16 09:23:45           2017-01-18 10:53:42   \n",
      "98310          2017-01-18 09:47:00           2017-01-23 14:13:07   \n",
      "98372          2017-02-06 08:22:12           2017-02-13 10:03:31   \n",
      "98439          2017-02-10 07:07:43           2017-02-23 05:03:16   \n",
      "98916          2017-01-18 10:55:24           2017-01-24 13:57:59   \n",
      "99180          2017-01-26 06:32:47           2017-02-08 08:14:01   \n",
      "99280          2017-01-16 11:42:51           2017-01-25 11:44:59   \n",
      "99329          2017-01-25 13:20:38           2017-01-30 09:39:02   \n",
      "99434          2017-01-30 11:40:16           2017-02-07 13:15:25   \n",
      "\n",
      "      order_estimated_delivery_date   day_name  year  day  month  hour  \n",
      "8                        2017-03-06     Monday  2017   23      1    18  \n",
      "106                      2017-03-10   Saturday  2017   28      1    23  \n",
      "236                      2017-02-13   Thursday  2017    5      1    13  \n",
      "303                      2017-03-02   Saturday  2017   21      1    17  \n",
      "457                      2017-03-09     Friday  2017   27      1     0  \n",
      "464                      2017-03-23  Wednesday  2017   25      1    15  \n",
      "468                      2017-02-20   Saturday  2017   14      1    15  \n",
      "714                      2017-02-16     Sunday  2017   22      1    14  \n",
      "811                      2017-02-16     Sunday  2017   22      1    16  \n",
      "827                      2017-03-16     Sunday  2017   22      1    13  \n",
      "934                      2017-02-13   Thursday  2017    5      1    15  \n",
      "944                      2017-02-22   Thursday  2017   26      1    16  \n",
      "1051                     2017-03-07    Tuesday  2017   31      1    17  \n",
      "1178                     2017-03-06   Thursday  2017   26      1    11  \n",
      "1199                     2017-02-17   Thursday  2017   19      1    22  \n",
      "1369                     2017-02-24   Thursday  2017   26      1    22  \n",
      "1486                     2017-02-28   Thursday  2017   26      1    16  \n",
      "1614                     2017-03-01     Sunday  2017   15      1    18  \n",
      "1663                     2017-03-20     Monday  2017   23      1    16  \n",
      "1763                     2017-02-22   Thursday  2017   12      1    23  \n",
      "1841                     2017-03-17     Monday  2017   30      1    14  \n",
      "1914                     2017-03-20     Sunday  2017   29      1    22  \n",
      "2016                     2017-03-01    Tuesday  2017   17      1    10  \n",
      "2101                     2017-03-08   Saturday  2017   21      1    11  \n",
      "2381                     2017-02-20  Wednesday  2017   25      1    16  \n",
      "2418                     2017-03-14  Wednesday  2017   25      1     1  \n",
      "2532                     2017-02-13   Thursday  2017    5      1    16  \n",
      "2659                     2017-02-28     Monday  2017   23      1    18  \n",
      "2684                     2017-03-01    Tuesday  2017   24      1    15  \n",
      "2774                     2017-02-22   Thursday  2017   26      1    18  \n",
      "...                             ...        ...   ...  ...    ...   ...  \n",
      "95967                    2017-02-27   Thursday  2017   19      1    14  \n",
      "96055                    2017-02-23     Friday  2017   13      1    20  \n",
      "96142                    2017-03-20     Monday  2017   30      1    10  \n",
      "96574                    2017-03-21     Friday  2017   27      1    18  \n",
      "96660                    2017-03-16     Sunday  2017   29      1    10  \n",
      "96801                    2017-02-15   Saturday  2017   14      1    17  \n",
      "97065                    2017-02-28  Wednesday  2017   18      1    17  \n",
      "97105                    2017-03-09    Tuesday  2017   24      1    14  \n",
      "97110                    2017-02-20   Thursday  2017   26      1    23  \n",
      "97230                    2017-03-02     Friday  2017   27      1    12  \n",
      "97250                    2017-03-09    Tuesday  2017   31      1    19  \n",
      "97360                    2017-03-20     Sunday  2017   29      1     0  \n",
      "97461                    2017-03-02   Thursday  2017   26      1    21  \n",
      "97862                    2017-03-14  Wednesday  2017   25      1    20  \n",
      "97875                    2017-03-10   Thursday  2017   26      1    22  \n",
      "97911                    2017-03-17     Friday  2017   27      1    16  \n",
      "97943                    2017-02-16     Friday  2017   20      1    22  \n",
      "98077                    2017-03-02     Sunday  2017   22      1    11  \n",
      "98135                    2017-03-02  Wednesday  2017   25      1     0  \n",
      "98177                    2017-03-27    Tuesday  2017   31      1     9  \n",
      "98284                    2017-03-31    Tuesday  2017   24      1    12  \n",
      "98290                    2017-03-01   Saturday  2017   14      1    14  \n",
      "98310                    2017-02-28     Monday  2017   16      1    23  \n",
      "98372                    2017-03-06  Wednesday  2017   25      1    10  \n",
      "98439                    2017-02-28     Monday  2017   16      1    14  \n",
      "98916                    2017-03-08     Monday  2017   16      1    21  \n",
      "99180                    2017-03-23    Tuesday  2017   24      1    21  \n",
      "99280                    2017-02-28   Saturday  2017   14      1    21  \n",
      "99329                    2017-03-01    Tuesday  2017   24      1     9  \n",
      "99434                    2017-03-17     Friday  2017   27      1     0  \n",
      "\n",
      "[800 rows x 13 columns]\n"
     ]
    }
   ],
   "source": [
    "ex2017 = df_orders_copy[(df_orders_copy['order_purchase_timestamp'].dt.year) == 2017] #year of 2017\n",
    "ex2016 = df_orders_copy[(df_orders_copy['order_purchase_timestamp'].dt.year) == 2016] #year of 2016 will not be used in this cell\n",
    "ex2018 = df_orders_copy[(df_orders_copy['order_purchase_timestamp'].dt.year) == 2018] #year of 2018 will not be used in this cell\n",
    "janex2017 = ex2017[(ex2017['order_purchase_timestamp'].dt.month) == 1] #month of january\n",
    "janex2017order_id = janex2017['order_id'] #order in january 2017\n",
    "print(janex2017)"
   ]
  },
  {
   "cell_type": "code",
   "execution_count": 41,
   "metadata": {},
   "outputs": [
    {
     "data": {
      "text/plain": [
       "Text(0,0.5,'Orders')"
      ]
     },
     "execution_count": 41,
     "metadata": {},
     "output_type": "execute_result"
    },
    {
     "data": {
      "image/png": "[encoded data removed]",
      "text/plain": [
       "<Figure size 1080x576 with 1 Axes>"
      ]
     },
     "metadata": {},
     "output_type": "display_data"
    }
   ],
   "source": [
    "janex2017graph1 = janex2017order_id.groupby(janex2017[\"order_purchase_timestamp\"].dt.day).count().reindex(np.arange(1,32), fill_value=0)\n",
    "janex2017graph1fix = janex2017graph1.plot(kind=\"bar\", figsize = (15,8), color=\"blue\")\n",
    "janex2017graph1fix.set_title('Number of Orders made in January 2017')\n",
    "janex2017graph1fix.set_xlabel('Day')\n",
    "janex2017graph1fix.set_ylabel('Orders')"
   ]
  },
  {
   "cell_type": "code",
   "execution_count": 42,
   "metadata": {},
   "outputs": [
    {
     "data": {
      "image/png": "[encoded data removed]",
      "text/plain": [
       "<Figure size 432x288 with 1 Axes>"
      ]
     },
     "metadata": {},
     "output_type": "display_data"
    }
   ],
   "source": [
    "orderin2017 = ex2017['order_id'].count()\n",
    "orderin2016 = ex2016['order_id'].count()\n",
    "orderin2018 = ex2018['order_id'].count()\n",
    "orderinyears = []\n",
    "orderinyears.append(orderin2016)\n",
    "orderinyears.append(orderin2017)\n",
    "orderinyears.append(orderin2018)\n",
    "\n",
    "labels = '2016', '2017', '2018'\n",
    "colors = ['gold', 'yellowgreen', 'lightskyblue']\n",
    "explode = (0, 0, 0.1)  # explode 3rd slice\n",
    "plt.pie(orderinyears, explode=explode, labels=labels, colors=colors,\n",
    "        autopct='%1.1f%%', shadow=True, radius=10, startangle=90)\n",
    "plt.axis('equal')\n",
    "plt.show()"
   ]
  },
  {
   "cell_type": "code",
   "execution_count": 43,
   "metadata": {},
   "outputs": [
    {
     "data": {
      "text/plain": [
       "'0.8.1'"
      ]
     },
     "execution_count": 43,
     "metadata": {},
     "output_type": "execute_result"
    }
   ],
   "source": [
    "sns.__version__"
   ]
  },
  {
   "cell_type": "code",
   "execution_count": 46,
   "metadata": {},
   "outputs": [
    {
     "data": {
      "text/plain": [
       "Text(0.5,1,'Order value')"
      ]
     },
     "execution_count": 46,
     "metadata": {},
     "output_type": "execute_result"
    },
    {
     "data": {
      "image/png": "[encoded data removed]",
      "text/plain": [
       "<Figure size 1080x576 with 1 Axes>"
      ]
     },
     "metadata": {},
     "output_type": "display_data"
    }
   ],
   "source": [
    "q95 = df_payments[\"payment_value\"].quantile(.95)\n",
    "payment_q95 = df_payments[df_payments['payment_value']<q95]\n",
    "\n",
    "payment_q95.hist(column=\"payment_value\", bins=100, figsize=(15,8), rwidth=0.9)\n",
    "plt.xlabel(\"Payment Value\")\n",
    "plt.ylabel(\"Order Counts\")\n",
    "plt.title(\"Order value\")"
   ]
  },
  {
   "cell_type": "markdown",
   "metadata": {},
   "source": [
    "### Analysis of \"Product\" dataset (3) - Visual "
   ]
  },
  {
   "cell_type": "code",
   "execution_count": 47,
   "metadata": {},
   "outputs": [
    {
     "data": {
      "image/png": "[encoded data removed]",
      "text/plain": [
       "<Figure size 432x288 with 2 Axes>"
      ]
     },
     "metadata": {},
     "output_type": "display_data"
    }
   ],
   "source": [
    "%matplotlib inline \n",
    "\n",
    "fig = plt.figure()\n",
    "plt.scatter(df_product['product_length_cm'], df_product['product_width_cm'], c=df_product['product_weight_g'], s=df_product['product_height_cm']**1)\n",
    "plt.xlabel('product length [cm]')\n",
    "plt.ylabel('product width [cm]')\n",
    "plt.colorbar(label='product weight [g]');"
   ]
  },
  {
   "cell_type": "markdown",
   "metadata": {},
   "source": [
    "### Constructing model"
   ]
  },
  {
   "cell_type": "markdown",
   "metadata": {},
   "source": [
    "#### Because of the limitation of data, it would be good if we predict either for quarter years or a months"
   ]
  },
  {
   "cell_type": "code",
   "execution_count": 50,
   "metadata": {},
   "outputs": [],
   "source": [
    "coba1 = df_join_item_order.copy()\n",
    "coba1 = coba1.join(df_product.set_index('product_id'), on='product_id')\n",
    "coba1 = coba1.join(df_product_translation.set_index('product_category_name'), on='product_category_name')\n",
    "coba1 = coba1.join(df_customers.set_index('customer_id'), on='customer_id')\n",
    "\n",
    "coba1 = coba1.drop(['product_name_lenght', 'product_description_lenght', 'product_photos_qty', 'product_length_cm', 'product_height_cm', 'product_width_cm'], axis=1)"
   ]
  },
  {
   "cell_type": "code",
   "execution_count": 51,
   "metadata": {},
   "outputs": [],
   "source": [
    "coba2 = coba1[coba1.order_item_id.isnull() == False]"
   ]
  },
  {
   "cell_type": "code",
   "execution_count": 53,
   "metadata": {},
   "outputs": [],
   "source": [
    "# df_orders_copy[\"order_purchase_timestamp\"] = pd.to_datetime(df_orders[\"order_purchase_timestamp\"], format='%Y-%m-%d %H:%M:%S')\n",
    "columns = ['hour', 'month', 'year', 'value', 'state', 'product_category_name', ]\n",
    "df_table_fix = pd.DataFrame(columns = columns)\n",
    "\n",
    "df_table_fix['order_id'] = coba2['order_id']\n",
    "df_table_fix['month'] = coba2['month']\n",
    "df_table_fix['year'] = coba2['year']\n",
    "df_table_fix['value'] = coba2['total_order_value']\n",
    "df_table_fix['state'] = coba2['customer_state']"
   ]
  },
  {
   "cell_type": "code",
   "execution_count": 54,
   "metadata": {},
   "outputs": [],
   "source": [
    "#df_iris['Species-id'] = df_iris['Species'].map({'Iris-setosa': 0, 'Iris-versicolor': 1, 'Iris-virginica': 2})\n",
    "df_table_fix['state_number'] = df_table_fix['state'].map({'SP': 0, 'RJ': 1, 'MG': 2, 'RS': 3, 'PR': 4, 'SC': 5, 'BA': 6, 'DF': 7, 'GO': 8, 'ES': 9, 'PE': 10, 'CE': 11, 'PA': 12, 'MT': 13, 'MA': 14, 'MS': 15, 'PB': 16, 'PI': 17, 'RN': 18, 'AL': 19, 'SE': 20, 'TO': 21, 'RO': 22, 'AM': 23, 'AC': 24, 'AP': 25, 'RR': 26})\n",
    "df_table_fix = df_table_fix.drop(['state'], axis=1)\n",
    "df_table_fix = df_table_fix.drop(['order_id'], axis=1)"
   ]
  },
  {
   "cell_type": "markdown",
   "metadata": {},
   "source": [
    "# Data Visualisation & Statement of Analysis Finished (also did cleaning but not good to documented)"
   ]
  },
  {
   "cell_type": "markdown",
   "metadata": {},
   "source": [
    "# CONTINUED TO DATA CLEANING"
   ]
  },
  {
   "cell_type": "code",
   "execution_count": null,
   "metadata": {},
   "outputs": [],
   "source": []
  }
 ],
 "metadata": {
  "kernelspec": {
   "display_name": "Python 3",
   "language": "python",
   "name": "python3"
  },
  "language_info": {
   "codemirror_mode": {
    "name": "ipython",
    "version": 3
   },
   "file_extension": ".py",
   "mimetype": "text/x-python",
   "name": "python",
   "nbconvert_exporter": "python",
   "pygments_lexer": "ipython3",
   "version": "3.6.5"
  }
 },
 "nbformat": 4,
 "nbformat_minor": 2
}
